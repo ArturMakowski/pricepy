{
 "cells": [
  {
   "cell_type": "code",
   "execution_count": 1,
   "metadata": {},
   "outputs": [],
   "source": [
    "from ml_model.pricepy_model import (\n",
    "    # PricepyModelElastic,\n",
    "    # PricepyModelRidge,\n",
    "    # PricepyModelLasso,\n",
    "    # PricepyModelLinear,\n",
    "    PricepyModel,\n",
    ")"
   ]
  },
  {
   "cell_type": "code",
   "execution_count": 2,
   "metadata": {},
   "outputs": [
    {
     "name": "stdout",
     "output_type": "stream",
     "text": [
      "--------------------------Training ElasticNet model--------------------------\n",
      "Data successfully downloaded from the database!\n",
      "Data successfully preprocessed!\n",
      "Hyperparameter tuning...\n",
      "Fitting 5 folds for each of 200 candidates, totalling 1000 fits\n",
      "Found best params:  {'alpha': 0.1, 'copy_X': True, 'fit_intercept': True, 'l1_ratio': 0.3, 'positive': False}\n",
      "Model successfully created!\n",
      "Cross-validated RMSE: 183761.80\n",
      "Cross-validated MAE: 89148.06\n",
      "R2: 0.71\n"
     ]
    }
   ],
   "source": [
    "print(\"--------------------------Training ElasticNet model--------------------------\")\n",
    "model = PricepyModel()\n",
    "model.train_model()"
   ]
  },
  {
   "cell_type": "code",
   "execution_count": 8,
   "metadata": {},
   "outputs": [
    {
     "data": {
      "text/plain": [
       "array([[663705.57193129],\n",
       "       [563434.35799645]])"
      ]
     },
     "execution_count": 8,
     "metadata": {},
     "output_type": "execute_result"
    }
   ],
   "source": [
    "import pandas as pd\n",
    "\n",
    "data = {\n",
    "    \"status\": [\"wtórny\", \"pierwotny\"],\n",
    "    \"size\": [62, 50],\n",
    "    \"property_type\": [\"blok\", \"apartamentowiec\"],\n",
    "    \"rooms\": [4, 3],\n",
    "    \"floor\": [10, 1],\n",
    "    \"year_built\": [2000, 2005],\n",
    "    \"property_condition\": [\"do zamieszkania\", \"do remontu\"],\n",
    "    \"location\": [\"Piątkowo\", \"Łazarz\"],\n",
    "}\n",
    "data = pd.DataFrame(data)\n",
    "\n",
    "model.predict(data)"
   ]
  }
 ],
 "metadata": {
  "kernelspec": {
   "display_name": "pricepy",
   "language": "python",
   "name": "python3"
  },
  "language_info": {
   "codemirror_mode": {
    "name": "ipython",
    "version": 3
   },
   "file_extension": ".py",
   "mimetype": "text/x-python",
   "name": "python",
   "nbconvert_exporter": "python",
   "pygments_lexer": "ipython3",
   "version": "3.10.13"
  }
 },
 "nbformat": 4,
 "nbformat_minor": 2
}
