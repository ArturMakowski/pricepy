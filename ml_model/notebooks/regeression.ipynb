{
 "cells": [
  {
   "cell_type": "code",
   "execution_count": 1,
   "metadata": {},
   "outputs": [],
   "source": [
    "from ml_model.pricepy_model import (\n",
    "    # PricepyModelElastic,\n",
    "    # PricepyModelRidge,\n",
    "    # PricepyModelLasso,\n",
    "    # PricepyModelLinear,\n",
    "    PricepyModel,\n",
    ")"
   ]
  },
  {
   "cell_type": "code",
   "execution_count": 2,
   "metadata": {},
   "outputs": [
    {
     "name": "stdout",
     "output_type": "stream",
     "text": [
      "--------------------------Training ElasticNet model--------------------------\n",
      "Data successfully downloaded from the database!\n",
      "Data successfully preprocessed!\n",
      "Hyperparameter tuning...\n",
      "Fitting 5 folds for each of 200 candidates, totalling 1000 fits\n",
      "Found best params:  {'alpha': 0.1, 'copy_X': True, 'fit_intercept': True, 'l1_ratio': 0.3, 'positive': False}\n",
      "Model successfully created!\n",
      "Cross-validated RMSE: 183938.16\n",
      "Cross-validated MAE: 89448.49\n",
      "R2: 0.71\n"
     ]
    }
   ],
   "source": [
    "print(\"--------------------------Training ElasticNet model--------------------------\")\n",
    "model = PricepyModel()\n",
    "model.train_model()"
   ]
  },
  {
   "cell_type": "code",
   "execution_count": 14,
   "metadata": {},
   "outputs": [
    {
     "data": {
      "text/plain": [
       "array([663800.])"
      ]
     },
     "execution_count": 14,
     "metadata": {},
     "output_type": "execute_result"
    }
   ],
   "source": [
    "import pandas as pd\n",
    "\n",
    "data = {\n",
    "    \"status\": [\"wtórny\"],\n",
    "    \"size\": [62],\n",
    "    \"property_type\": [\"blok\"],\n",
    "    \"rooms\": [4],\n",
    "    \"floor\": [10],\n",
    "    \"year_built\": [2000],\n",
    "    \"property_condition\": [\"do zamieszkania\"],\n",
    "    \"location\": [\"Piątkowo\"],\n",
    "}\n",
    "data = pd.DataFrame(data)\n",
    "\n",
    "model.predict(data).round(-2)"
   ]
  }
 ],
 "metadata": {
  "kernelspec": {
   "display_name": "pricepy",
   "language": "python",
   "name": "python3"
  },
  "language_info": {
   "codemirror_mode": {
    "name": "ipython",
    "version": 3
   },
   "file_extension": ".py",
   "mimetype": "text/x-python",
   "name": "python",
   "nbconvert_exporter": "python",
   "pygments_lexer": "ipython3",
   "version": "3.10.13"
  }
 },
 "nbformat": 4,
 "nbformat_minor": 2
}
