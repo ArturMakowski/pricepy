{
 "cells": [
  {
   "cell_type": "markdown",
   "metadata": {},
   "source": [
    "## Data loading"
   ]
  },
  {
   "cell_type": "code",
   "execution_count": 1,
   "metadata": {},
   "outputs": [],
   "source": [
    "import sys\n",
    "sys.path.append('../../_common/database_communicator/')"
   ]
  },
  {
   "cell_type": "code",
   "execution_count": 2,
   "metadata": {},
   "outputs": [],
   "source": [
    "from db_connector import DBConnector\n",
    "import pandas as pd"
   ]
  },
  {
   "cell_type": "code",
   "execution_count": 3,
   "metadata": {},
   "outputs": [],
   "source": [
    "connector = DBConnector()\n",
    "engine = connector.create_sql_engine()"
   ]
  },
  {
   "cell_type": "code",
   "execution_count": 4,
   "metadata": {},
   "outputs": [],
   "source": [
    "df = pd.read_sql_query(\"SELECT * FROM data_staging\", con=engine)"
   ]
  },
  {
   "cell_type": "markdown",
   "metadata": {},
   "source": [
    "## Data cleaning"
   ]
  },
  {
   "cell_type": "code",
   "execution_count": 5,
   "metadata": {},
   "outputs": [],
   "source": [
    "df['floor'].fillna('brak informacji', inplace=True)\n",
    "df['status'].fillna('brak informacji', inplace=True)\n",
    "df['property_type'].fillna('brak informacji', inplace=True)\n",
    "df['rooms'].fillna(1, inplace=True)\n",
    "df['year_built'].fillna('brak informacji', inplace=True)\n",
    "df['property_condition'].fillna('brak informacji', inplace=True)"
   ]
  },
  {
   "cell_type": "code",
   "execution_count": 6,
   "metadata": {},
   "outputs": [
    {
     "name": "stdout",
     "output_type": "stream",
     "text": [
      "84\n",
      "0\n"
     ]
    }
   ],
   "source": [
    "print(df.duplicated().sum())\n",
    "df.drop_duplicates(inplace=True)\n",
    "print(df.duplicated().sum())"
   ]
  },
  {
   "cell_type": "markdown",
   "metadata": {},
   "source": [
    "### price column"
   ]
  },
  {
   "cell_type": "code",
   "execution_count": 7,
   "metadata": {},
   "outputs": [],
   "source": [
    "df['price'] = df['price'].str.replace('zł', '').str \\\n",
    "    .replace(' ', '') \\\n",
    "    .replace(',', '.', regex=True) \\\n",
    "    .replace('Zapytajocenę', None, regex=True) \\\n",
    "    .astype(float)"
   ]
  },
  {
   "cell_type": "code",
   "execution_count": 8,
   "metadata": {},
   "outputs": [],
   "source": [
    "df = df[df['price'].notna()]\n",
    "df = df[df['price'] < 5000000.0]"
   ]
  },
  {
   "cell_type": "markdown",
   "metadata": {},
   "source": [
    "### size column"
   ]
  },
  {
   "cell_type": "code",
   "execution_count": 9,
   "metadata": {},
   "outputs": [],
   "source": [
    "df['size']= df['size'].str.replace(',', '.').astype(float)"
   ]
  },
  {
   "cell_type": "markdown",
   "metadata": {},
   "source": [
    "### location column"
   ]
  },
  {
   "cell_type": "code",
   "execution_count": 10,
   "metadata": {},
   "outputs": [],
   "source": [
    "import pandas as pd\n",
    "import re\n",
    "\n",
    "loc_list = ['Grunwald', 'Górczyn', 'Ławica', 'Łazarz', 'Junikowo', 'Jeżyce', \n",
    "            'Podolany', 'Sołacz', 'Wilda', 'Dębiec', 'Nowe Miasto', 'Łacina', \n",
    "            'Rataje', 'Starołęka Mała', 'Stare Miasto', 'Naramowice', \n",
    "            'Piątkowo', 'Winogrady', 'Chartowo']\n",
    "\n",
    "# Function to find and return matching location from loc_list\n",
    "def find_location(x):\n",
    "    for loc in loc_list:\n",
    "        if bool(re.search(loc, x)):\n",
    "            return loc\n",
    "    return 'Poznań'\n",
    "\n",
    "# Apply the function on 'location' column\n",
    "df['location'] = df['location'].apply(find_location)"
   ]
  },
  {
   "cell_type": "code",
   "execution_count": 11,
   "metadata": {},
   "outputs": [
    {
     "data": {
      "text/plain": [
       "location\n",
       "Stare Miasto    245\n",
       "Grunwald        228\n",
       "Nowe Miasto     208\n",
       "Jeżyce          139\n",
       "Wilda            58\n",
       "Poznań           14\n",
       "Piątkowo          7\n",
       "Winogrady         6\n",
       "Podolany          5\n",
       "Naramowice        4\n",
       "Rataje            4\n",
       "Górczyn           2\n",
       "Łazarz            2\n",
       "Chartowo          1\n",
       "Sołacz            1\n",
       "Junikowo          1\n",
       "Ławica            1\n",
       "Name: count, dtype: int64"
      ]
     },
     "execution_count": 11,
     "metadata": {},
     "output_type": "execute_result"
    }
   ],
   "source": [
    "df['location'].value_counts()"
   ]
  },
  {
   "cell_type": "markdown",
   "metadata": {},
   "source": [
    "### floor column"
   ]
  },
  {
   "cell_type": "code",
   "execution_count": 12,
   "metadata": {},
   "outputs": [],
   "source": [
    "df['floor'] = df['floor'].apply(lambda x: x.split('/')[0] if type(x) == str else x)"
   ]
  },
  {
   "cell_type": "code",
   "execution_count": 13,
   "metadata": {},
   "outputs": [],
   "source": [
    "import pandas as pd\n",
    "\n",
    "def extract_numbers(s):\n",
    "    return ''.join(filter(str.isdigit, s)) if any(map(str.isdigit, s)) else s\n",
    "\n",
    "\n",
    "df['floor'] = df['floor'].str.replace('parter', '0').str.replace('poddasze', '10').apply(extract_numbers)\n",
    "df['floor'] = df['floor'].str.replace('zapytaj', 'brak informacji').str.replace('suterena', '-1')"
   ]
  },
  {
   "cell_type": "code",
   "execution_count": 14,
   "metadata": {},
   "outputs": [
    {
     "data": {
      "text/plain": [
       "array(['1', '5', '3', '2', '0', '4', '7', '10', 'brak informacji', '6',\n",
       "       '-1', '8', '9'], dtype=object)"
      ]
     },
     "execution_count": 14,
     "metadata": {},
     "output_type": "execute_result"
    }
   ],
   "source": [
    "df['floor'].unique()"
   ]
  },
  {
   "cell_type": "markdown",
   "metadata": {},
   "source": [
    "### status column"
   ]
  },
  {
   "cell_type": "code",
   "execution_count": 15,
   "metadata": {},
   "outputs": [
    {
     "data": {
      "text/plain": [
       "array(['wtórny', 'pierwotny', 'brak informacji'], dtype=object)"
      ]
     },
     "execution_count": 15,
     "metadata": {},
     "output_type": "execute_result"
    }
   ],
   "source": [
    "df['status'].unique()"
   ]
  },
  {
   "cell_type": "markdown",
   "metadata": {},
   "source": [
    "### property_type column"
   ]
  },
  {
   "cell_type": "code",
   "execution_count": 16,
   "metadata": {},
   "outputs": [
    {
     "data": {
      "text/plain": [
       "array(['brak informacji', 'blok', 'apartamentowiec', 'kamienica',\n",
       "       'pozostałe', 'wolnostojący', 'szeregowiec'], dtype=object)"
      ]
     },
     "execution_count": 16,
     "metadata": {},
     "output_type": "execute_result"
    }
   ],
   "source": [
    "df['property_type'] = df['property_type'].str.replace('plomba', 'pozostałe').str.replace('bliźniak', 'wolnostojący').str.replace('dom wolnostojący', 'wolnostojący')\n",
    "df['property_type'].unique()"
   ]
  },
  {
   "cell_type": "code",
   "execution_count": 17,
   "metadata": {},
   "outputs": [
    {
     "data": {
      "text/plain": [
       "property_type\n",
       "blok               377\n",
       "brak informacji    276\n",
       "kamienica          133\n",
       "apartamentowiec     91\n",
       "wolnostojący        24\n",
       "szeregowiec         16\n",
       "pozostałe            9\n",
       "Name: count, dtype: int64"
      ]
     },
     "execution_count": 17,
     "metadata": {},
     "output_type": "execute_result"
    }
   ],
   "source": [
    "df['property_type'].value_counts()"
   ]
  },
  {
   "cell_type": "markdown",
   "metadata": {},
   "source": [
    "### rooms column"
   ]
  },
  {
   "cell_type": "code",
   "execution_count": 18,
   "metadata": {},
   "outputs": [
    {
     "data": {
      "text/plain": [
       "array(['2', '3', '1', '4', '6', '5', 1, '7', '8', '9', '10'], dtype=object)"
      ]
     },
     "execution_count": 18,
     "metadata": {},
     "output_type": "execute_result"
    }
   ],
   "source": [
    "df['rooms'].fillna(1, inplace=True)\n",
    "df['rooms'].unique()"
   ]
  },
  {
   "cell_type": "markdown",
   "metadata": {},
   "source": [
    "### year_built column"
   ]
  },
  {
   "cell_type": "code",
   "execution_count": 19,
   "metadata": {},
   "outputs": [
    {
     "data": {
      "text/plain": [
       "array(['brak informacji', '2023', '1900', '1930', '2003', '1960', '2017',\n",
       "       '2024', '2012', '1970', '1980', '2009', '1905', '1950', '2020',\n",
       "       '1962', '2008', '1906', '1912', '1983', '2013', '2010', '2001',\n",
       "       '2018', '2005', '1902', '1972', '2019', '1990', '2014', '1891',\n",
       "       '2016', '2015', '1968', '1910', '1996', '2007', '1965', '1985',\n",
       "       '1923', '2006', '1945', '1955', '1986', '1924', '1963', '2022',\n",
       "       '1880', '1928', '1978', '2021', '1997', '2011', '2025', '1920',\n",
       "       '2000', '1999', '1901', '1927', '1929', '1975', '1992', '1969',\n",
       "       '1908', '1942', '1959', '1961', '1949', '2004', '1911', '1989',\n",
       "       '1987', '1933', '1976', '1979', '1967', '1964', '1903', '1904',\n",
       "       '1875', '1938'], dtype=object)"
      ]
     },
     "execution_count": 19,
     "metadata": {},
     "output_type": "execute_result"
    }
   ],
   "source": [
    "df['year_built'].unique()"
   ]
  },
  {
   "cell_type": "markdown",
   "metadata": {},
   "source": [
    "### property_condition column"
   ]
  },
  {
   "cell_type": "code",
   "execution_count": 20,
   "metadata": {},
   "outputs": [
    {
     "data": {
      "text/plain": [
       "array(['do zamieszkania', 'do wykończenia', 'brak informacji',\n",
       "       'do remontu', 'stan surowy zamknięty'], dtype=object)"
      ]
     },
     "execution_count": 20,
     "metadata": {},
     "output_type": "execute_result"
    }
   ],
   "source": [
    "df['property_condition'] = df['property_condition'].str.replace('zapytaj', 'brak informacji')\n",
    "df['property_condition'].unique()"
   ]
  },
  {
   "cell_type": "markdown",
   "metadata": {},
   "source": [
    "## Casting column types"
   ]
  },
  {
   "cell_type": "code",
   "execution_count": 21,
   "metadata": {},
   "outputs": [],
   "source": [
    "numerical_col = ['size', 'rooms']\n",
    "categorical_col = ['status', 'property_type', 'floor', 'year_built', 'property_condition', 'location']\n",
    "\n",
    "for col in numerical_col:\n",
    "    df[col] = df[col].astype(float)\n",
    "    \n",
    "for col in categorical_col:\n",
    "    df[col] = df[col].astype('category')"
   ]
  },
  {
   "cell_type": "code",
   "execution_count": 22,
   "metadata": {},
   "outputs": [
    {
     "data": {
      "text/html": [
       "<div>\n",
       "<style scoped>\n",
       "    .dataframe tbody tr th:only-of-type {\n",
       "        vertical-align: middle;\n",
       "    }\n",
       "\n",
       "    .dataframe tbody tr th {\n",
       "        vertical-align: top;\n",
       "    }\n",
       "\n",
       "    .dataframe thead th {\n",
       "        text-align: right;\n",
       "    }\n",
       "</style>\n",
       "<table border=\"1\" class=\"dataframe\">\n",
       "  <thead>\n",
       "    <tr style=\"text-align: right;\">\n",
       "      <th></th>\n",
       "      <th>url</th>\n",
       "      <th>price</th>\n",
       "      <th>status</th>\n",
       "      <th>size</th>\n",
       "      <th>property_type</th>\n",
       "      <th>rooms</th>\n",
       "      <th>floor</th>\n",
       "      <th>year_built</th>\n",
       "      <th>property_condition</th>\n",
       "      <th>location</th>\n",
       "      <th>desc</th>\n",
       "      <th>image_url</th>\n",
       "    </tr>\n",
       "  </thead>\n",
       "  <tbody>\n",
       "    <tr>\n",
       "      <th>0</th>\n",
       "      <td>https://www.otodom.pl/pl/oferta/nowoczesne-dwu...</td>\n",
       "      <td>630000.0</td>\n",
       "      <td>wtórny</td>\n",
       "      <td>68.00</td>\n",
       "      <td>brak informacji</td>\n",
       "      <td>2.0</td>\n",
       "      <td>1</td>\n",
       "      <td>brak informacji</td>\n",
       "      <td>do zamieszkania</td>\n",
       "      <td>Nowe Miasto</td>\n",
       "      <td>Z przyjemnością przedstawiam ofertę sprzedaży ...</td>\n",
       "      <td>https://ireland.apollo.olxcdn.com/v1/files/eyJ...</td>\n",
       "    </tr>\n",
       "    <tr>\n",
       "      <th>1</th>\n",
       "      <td>https://www.otodom.pl/pl/oferta/nowe-3-pokoje-...</td>\n",
       "      <td>552520.0</td>\n",
       "      <td>pierwotny</td>\n",
       "      <td>51.00</td>\n",
       "      <td>blok</td>\n",
       "      <td>3.0</td>\n",
       "      <td>1</td>\n",
       "      <td>2023</td>\n",
       "      <td>do wykończenia</td>\n",
       "      <td>Nowe Miasto</td>\n",
       "      <td>Możliwość kontaktu telefonicznego w godzinach ...</td>\n",
       "      <td>https://ireland.apollo.olxcdn.com/v1/files/eyJ...</td>\n",
       "    </tr>\n",
       "    <tr>\n",
       "      <th>2</th>\n",
       "      <td>https://www.olx.pl/d/oferta/mieszkanie-3-pokoj...</td>\n",
       "      <td>649000.0</td>\n",
       "      <td>wtórny</td>\n",
       "      <td>59.00</td>\n",
       "      <td>blok</td>\n",
       "      <td>3.0</td>\n",
       "      <td>1</td>\n",
       "      <td>brak informacji</td>\n",
       "      <td>brak informacji</td>\n",
       "      <td>Naramowice</td>\n",
       "      <td>Zamieszkaj w dzielnicy Poznania blisko natury!...</td>\n",
       "      <td>https://ireland.apollo.olxcdn.com:443/v1/files...</td>\n",
       "    </tr>\n",
       "    <tr>\n",
       "      <th>3</th>\n",
       "      <td>https://www.otodom.pl/pl/oferta/wynajety-apart...</td>\n",
       "      <td>679000.0</td>\n",
       "      <td>pierwotny</td>\n",
       "      <td>41.92</td>\n",
       "      <td>apartamentowiec</td>\n",
       "      <td>2.0</td>\n",
       "      <td>5</td>\n",
       "      <td>2023</td>\n",
       "      <td>brak informacji</td>\n",
       "      <td>Nowe Miasto</td>\n",
       "      <td>Oferta bezpośrednio od właściciela – BRAK prow...</td>\n",
       "      <td>https://ireland.apollo.olxcdn.com/v1/files/eyJ...</td>\n",
       "    </tr>\n",
       "    <tr>\n",
       "      <th>4</th>\n",
       "      <td>https://www.otodom.pl/pl/oferta/atrakcyjne-mie...</td>\n",
       "      <td>679000.0</td>\n",
       "      <td>wtórny</td>\n",
       "      <td>43.65</td>\n",
       "      <td>kamienica</td>\n",
       "      <td>2.0</td>\n",
       "      <td>3</td>\n",
       "      <td>1900</td>\n",
       "      <td>do zamieszkania</td>\n",
       "      <td>Stare Miasto</td>\n",
       "      <td>* Stylowo urządzone * CHWALISZEWO *\\n\\nPrzedst...</td>\n",
       "      <td>https://ireland.apollo.olxcdn.com/v1/files/eyJ...</td>\n",
       "    </tr>\n",
       "  </tbody>\n",
       "</table>\n",
       "</div>"
      ],
      "text/plain": [
       "                                                 url     price     status  \\\n",
       "0  https://www.otodom.pl/pl/oferta/nowoczesne-dwu...  630000.0     wtórny   \n",
       "1  https://www.otodom.pl/pl/oferta/nowe-3-pokoje-...  552520.0  pierwotny   \n",
       "2  https://www.olx.pl/d/oferta/mieszkanie-3-pokoj...  649000.0     wtórny   \n",
       "3  https://www.otodom.pl/pl/oferta/wynajety-apart...  679000.0  pierwotny   \n",
       "4  https://www.otodom.pl/pl/oferta/atrakcyjne-mie...  679000.0     wtórny   \n",
       "\n",
       "    size    property_type  rooms floor       year_built property_condition  \\\n",
       "0  68.00  brak informacji    2.0     1  brak informacji    do zamieszkania   \n",
       "1  51.00             blok    3.0     1             2023     do wykończenia   \n",
       "2  59.00             blok    3.0     1  brak informacji    brak informacji   \n",
       "3  41.92  apartamentowiec    2.0     5             2023    brak informacji   \n",
       "4  43.65        kamienica    2.0     3             1900    do zamieszkania   \n",
       "\n",
       "       location                                               desc  \\\n",
       "0   Nowe Miasto  Z przyjemnością przedstawiam ofertę sprzedaży ...   \n",
       "1   Nowe Miasto  Możliwość kontaktu telefonicznego w godzinach ...   \n",
       "2    Naramowice  Zamieszkaj w dzielnicy Poznania blisko natury!...   \n",
       "3   Nowe Miasto  Oferta bezpośrednio od właściciela – BRAK prow...   \n",
       "4  Stare Miasto  * Stylowo urządzone * CHWALISZEWO *\\n\\nPrzedst...   \n",
       "\n",
       "                                           image_url  \n",
       "0  https://ireland.apollo.olxcdn.com/v1/files/eyJ...  \n",
       "1  https://ireland.apollo.olxcdn.com/v1/files/eyJ...  \n",
       "2  https://ireland.apollo.olxcdn.com:443/v1/files...  \n",
       "3  https://ireland.apollo.olxcdn.com/v1/files/eyJ...  \n",
       "4  https://ireland.apollo.olxcdn.com/v1/files/eyJ...  "
      ]
     },
     "execution_count": 22,
     "metadata": {},
     "output_type": "execute_result"
    }
   ],
   "source": [
    "df.head()"
   ]
  },
  {
   "cell_type": "code",
   "execution_count": 23,
   "metadata": {},
   "outputs": [],
   "source": [
    "FEAT_COLS = ['status', 'size', 'property_type', 'rooms', 'floor', 'year_built', 'property_condition', 'location']\n",
    "TARGET_COL = 'price'\n",
    "\n",
    "X = df[FEAT_COLS]\n",
    "y = df[TARGET_COL].astype(float)"
   ]
  },
  {
   "cell_type": "code",
   "execution_count": 24,
   "metadata": {},
   "outputs": [
    {
     "data": {
      "text/html": [
       "<div>\n",
       "<style scoped>\n",
       "    .dataframe tbody tr th:only-of-type {\n",
       "        vertical-align: middle;\n",
       "    }\n",
       "\n",
       "    .dataframe tbody tr th {\n",
       "        vertical-align: top;\n",
       "    }\n",
       "\n",
       "    .dataframe thead th {\n",
       "        text-align: right;\n",
       "    }\n",
       "</style>\n",
       "<table border=\"1\" class=\"dataframe\">\n",
       "  <thead>\n",
       "    <tr style=\"text-align: right;\">\n",
       "      <th></th>\n",
       "      <th>status</th>\n",
       "      <th>size</th>\n",
       "      <th>property_type</th>\n",
       "      <th>rooms</th>\n",
       "      <th>floor</th>\n",
       "      <th>year_built</th>\n",
       "      <th>property_condition</th>\n",
       "      <th>location</th>\n",
       "    </tr>\n",
       "  </thead>\n",
       "  <tbody>\n",
       "    <tr>\n",
       "      <th>0</th>\n",
       "      <td>wtórny</td>\n",
       "      <td>68.00</td>\n",
       "      <td>brak informacji</td>\n",
       "      <td>2.0</td>\n",
       "      <td>1</td>\n",
       "      <td>brak informacji</td>\n",
       "      <td>do zamieszkania</td>\n",
       "      <td>Nowe Miasto</td>\n",
       "    </tr>\n",
       "    <tr>\n",
       "      <th>1</th>\n",
       "      <td>pierwotny</td>\n",
       "      <td>51.00</td>\n",
       "      <td>blok</td>\n",
       "      <td>3.0</td>\n",
       "      <td>1</td>\n",
       "      <td>2023</td>\n",
       "      <td>do wykończenia</td>\n",
       "      <td>Nowe Miasto</td>\n",
       "    </tr>\n",
       "    <tr>\n",
       "      <th>2</th>\n",
       "      <td>wtórny</td>\n",
       "      <td>59.00</td>\n",
       "      <td>blok</td>\n",
       "      <td>3.0</td>\n",
       "      <td>1</td>\n",
       "      <td>brak informacji</td>\n",
       "      <td>brak informacji</td>\n",
       "      <td>Naramowice</td>\n",
       "    </tr>\n",
       "    <tr>\n",
       "      <th>3</th>\n",
       "      <td>pierwotny</td>\n",
       "      <td>41.92</td>\n",
       "      <td>apartamentowiec</td>\n",
       "      <td>2.0</td>\n",
       "      <td>5</td>\n",
       "      <td>2023</td>\n",
       "      <td>brak informacji</td>\n",
       "      <td>Nowe Miasto</td>\n",
       "    </tr>\n",
       "    <tr>\n",
       "      <th>4</th>\n",
       "      <td>wtórny</td>\n",
       "      <td>43.65</td>\n",
       "      <td>kamienica</td>\n",
       "      <td>2.0</td>\n",
       "      <td>3</td>\n",
       "      <td>1900</td>\n",
       "      <td>do zamieszkania</td>\n",
       "      <td>Stare Miasto</td>\n",
       "    </tr>\n",
       "  </tbody>\n",
       "</table>\n",
       "</div>"
      ],
      "text/plain": [
       "      status   size    property_type  rooms floor       year_built  \\\n",
       "0     wtórny  68.00  brak informacji    2.0     1  brak informacji   \n",
       "1  pierwotny  51.00             blok    3.0     1             2023   \n",
       "2     wtórny  59.00             blok    3.0     1  brak informacji   \n",
       "3  pierwotny  41.92  apartamentowiec    2.0     5             2023   \n",
       "4     wtórny  43.65        kamienica    2.0     3             1900   \n",
       "\n",
       "  property_condition      location  \n",
       "0    do zamieszkania   Nowe Miasto  \n",
       "1     do wykończenia   Nowe Miasto  \n",
       "2    brak informacji    Naramowice  \n",
       "3    brak informacji   Nowe Miasto  \n",
       "4    do zamieszkania  Stare Miasto  "
      ]
     },
     "execution_count": 24,
     "metadata": {},
     "output_type": "execute_result"
    }
   ],
   "source": [
    "X.head()"
   ]
  },
  {
   "cell_type": "code",
   "execution_count": 25,
   "metadata": {},
   "outputs": [],
   "source": [
    "from sklearn.model_selection import train_test_split\n",
    "\n",
    "X_train, X_test, y_train, y_test = train_test_split(X, y, test_size=0.2, random_state=42, shuffle=True)"
   ]
  },
  {
   "cell_type": "code",
   "execution_count": 26,
   "metadata": {},
   "outputs": [],
   "source": [
    "# X_val.to_csv('X_val.tsv', index=False, sep = '\\t')\n",
    "# y_val.to_csv('y_val.tsv', index=False, sep = '\\t')\n",
    "# X_test.to_csv('X_test.tsv', index=False, sep = '\\t')\n",
    "# y_test.to_csv('y_test.tsv', index=False, sep = '\\t')\n",
    "# X_train.to_csv('X_train.tsv', index=False, sep = '\\t')\n",
    "# y_train.to_csv('y_train.tsv', index=False, sep = '\\t')"
   ]
  },
  {
   "cell_type": "markdown",
   "metadata": {},
   "source": [
    "# Model"
   ]
  },
  {
   "cell_type": "code",
   "execution_count": 36,
   "metadata": {},
   "outputs": [],
   "source": [
    "import numpy as np\n",
    "\n",
    "from xgboost import XGBRegressor\n",
    "from sklearn.model_selection import RandomizedSearchCV"
   ]
  },
  {
   "cell_type": "code",
   "execution_count": 28,
   "metadata": {},
   "outputs": [],
   "source": [
    "regressor = XGBRegressor(enable_categorical=True)"
   ]
  },
  {
   "cell_type": "code",
   "execution_count": 51,
   "metadata": {},
   "outputs": [],
   "source": [
    "## Hyper Parameter Optimization\n",
    "\n",
    "param_grid = {\n",
    "    \"learning_rate\": [0.001, 0.01, 0.1, 0.2, 0.3],\n",
    "    \"n_estimators\": [50, 100, 200, 300, 500, 1000, 2000],\n",
    "    \"max_depth\": [3, 5, 7, 9, 15, 25, 30],\n",
    "    \"min_child_weight\": [1, 3, 5, 7, 10, 15, 20],\n",
    "    \"subsample\": [0.5, 0.8, 0.9, 1.0],\n",
    "    \"colsample_bytree\": [0.5, 0.8, 0.9, 1.0],\n",
    "    \"gamma\": [0, 0.1, 0.2, 0.3, 0.5],\n",
    "    \"scale_pos_weight\": [1, 2, 3, 4, 5, 6, 7, 8, 9]\n",
    "}"
   ]
  },
  {
   "cell_type": "code",
   "execution_count": 52,
   "metadata": {},
   "outputs": [],
   "source": [
    "# Set up the random search with 4-fold cross validation\n",
    "random_cv = RandomizedSearchCV(estimator=regressor,\n",
    "            param_distributions=param_grid,\n",
    "            cv=4, n_iter=100,\n",
    "            scoring = 'neg_mean_absolute_error',n_jobs = 8,\n",
    "            verbose = 3, \n",
    "            return_train_score = True,\n",
    "            random_state=42)"
   ]
  },
  {
   "cell_type": "code",
   "execution_count": 53,
   "metadata": {},
   "outputs": [
    {
     "name": "stdout",
     "output_type": "stream",
     "text": [
      "Fitting 4 folds for each of 100 candidates, totalling 400 fits\n",
      "[CV 3/4] END colsample_bytree=0.9, gamma=0, learning_rate=0.3, max_depth=7, min_child_weight=7, n_estimators=200, scale_pos_weight=2, subsample=1.0;, score=(train=-15135.105, test=-154103.600) total time=   0.2s\n",
      "[CV 1/4] END colsample_bytree=0.9, gamma=0, learning_rate=0.3, max_depth=7, min_child_weight=7, n_estimators=200, scale_pos_weight=2, subsample=1.0;, score=(train=-14527.390, test=-125970.378) total time=   0.3s\n",
      "[CV 2/4] END colsample_bytree=0.9, gamma=0, learning_rate=0.3, max_depth=7, min_child_weight=7, n_estimators=200, scale_pos_weight=2, subsample=1.0;, score=(train=-17846.356, test=-123703.163) total time=   0.3s\n",
      "[CV 1/4] END colsample_bytree=0.5, gamma=0.2, learning_rate=0.001, max_depth=15, min_child_weight=15, n_estimators=300, scale_pos_weight=8, subsample=0.5;, score=(train=-251314.318, test=-220475.386) total time=   0.2s\n",
      "[CV 2/4] END colsample_bytree=0.5, gamma=0.2, learning_rate=0.001, max_depth=15, min_child_weight=15, n_estimators=300, scale_pos_weight=8, subsample=0.5;, score=(train=-243670.244, test=-224570.155) total time=   0.2s\n",
      "[CV 4/4] END colsample_bytree=0.9, gamma=0, learning_rate=0.3, max_depth=7, min_child_weight=7, n_estimators=200, scale_pos_weight=2, subsample=1.0;, score=(train=-15049.084, test=-142018.794) total time=   0.5s\n",
      "[CV 3/4] END colsample_bytree=0.5, gamma=0.2, learning_rate=0.001, max_depth=15, min_child_weight=15, n_estimators=300, scale_pos_weight=8, subsample=0.5;, score=(train=-222663.201, test=-261328.724) total time=   0.3s\n",
      "[CV 4/4] END colsample_bytree=0.5, gamma=0.2, learning_rate=0.001, max_depth=15, min_child_weight=15, n_estimators=300, scale_pos_weight=8, subsample=0.5;, score=(train=-230001.603, test=-251329.419) total time=   0.2s\n",
      "[CV 1/4] END colsample_bytree=0.5, gamma=0.5, learning_rate=0.001, max_depth=30, min_child_weight=20, n_estimators=300, scale_pos_weight=4, subsample=0.9;, score=(train=-248999.701, test=-219720.312) total time=   0.2s\n",
      "[CV 2/4] END colsample_bytree=0.5, gamma=0.5, learning_rate=0.001, max_depth=30, min_child_weight=20, n_estimators=300, scale_pos_weight=4, subsample=0.9;, score=(train=-241745.557, test=-223776.995) total time=   0.3s\n",
      "[CV 3/4] END colsample_bytree=0.5, gamma=0.5, learning_rate=0.001, max_depth=30, min_child_weight=20, n_estimators=300, scale_pos_weight=4, subsample=0.9;, score=(train=-221248.566, test=-260294.089) total time=   0.2s\n",
      "[CV 4/4] END colsample_bytree=0.5, gamma=0.5, learning_rate=0.001, max_depth=30, min_child_weight=20, n_estimators=300, scale_pos_weight=4, subsample=0.9;, score=(train=-228593.938, test=-250619.931) total time=   0.2s\n",
      "[CV 1/4] END colsample_bytree=0.5, gamma=0.1, learning_rate=0.2, max_depth=30, min_child_weight=7, n_estimators=500, scale_pos_weight=1, subsample=0.5;, score=(train=-20422.137, test=-141014.848) total time=   0.5s\n",
      "[CV 2/4] END colsample_bytree=0.5, gamma=0.1, learning_rate=0.2, max_depth=30, min_child_weight=7, n_estimators=500, scale_pos_weight=1, subsample=0.5;, score=(train=-22905.880, test=-150611.044) total time=   0.6s\n",
      "[CV 4/4] END colsample_bytree=0.5, gamma=0.1, learning_rate=0.2, max_depth=30, min_child_weight=7, n_estimators=500, scale_pos_weight=1, subsample=0.5;, score=(train=-23647.711, test=-149643.965) total time=   0.5s\n",
      "[CV 3/4] END colsample_bytree=0.5, gamma=0.1, learning_rate=0.2, max_depth=30, min_child_weight=7, n_estimators=500, scale_pos_weight=1, subsample=0.5;, score=(train=-18761.525, test=-161871.005) total time=   0.5s\n",
      "[CV 1/4] END colsample_bytree=0.9, gamma=0.1, learning_rate=0.3, max_depth=7, min_child_weight=1, n_estimators=300, scale_pos_weight=4, subsample=0.5;, score=(train=-528.012, test=-144390.868) total time=   0.4s\n",
      "[CV 3/4] END colsample_bytree=0.9, gamma=0.1, learning_rate=0.3, max_depth=7, min_child_weight=1, n_estimators=300, scale_pos_weight=4, subsample=0.5;, score=(train=-3567.967, test=-159679.501) total time=   0.4s\n",
      "[CV 4/4] END colsample_bytree=0.9, gamma=0.1, learning_rate=0.3, max_depth=7, min_child_weight=1, n_estimators=300, scale_pos_weight=4, subsample=0.5;, score=(train=-3417.358, test=-147243.326) total time=   0.4s\n",
      "[CV 2/4] END colsample_bytree=0.9, gamma=0.1, learning_rate=0.3, max_depth=7, min_child_weight=1, n_estimators=300, scale_pos_weight=4, subsample=0.5;, score=(train=-322.113, test=-139583.316) total time=   0.4s\n",
      "[CV 1/4] END colsample_bytree=1.0, gamma=0.2, learning_rate=0.3, max_depth=7, min_child_weight=7, n_estimators=1000, scale_pos_weight=7, subsample=0.9;, score=(train=-2194.752, test=-121554.764) total time=   0.7s\n",
      "[CV 2/4] END colsample_bytree=1.0, gamma=0.2, learning_rate=0.3, max_depth=7, min_child_weight=7, n_estimators=1000, scale_pos_weight=7, subsample=0.9;, score=(train=-931.830, test=-124830.103) total time=   0.7s\n",
      "[CV 4/4] END colsample_bytree=1.0, gamma=0.2, learning_rate=0.3, max_depth=7, min_child_weight=7, n_estimators=1000, scale_pos_weight=7, subsample=0.9;, score=(train=-2756.669, test=-137651.813) total time=   0.7s\n",
      "[CV 3/4] END colsample_bytree=1.0, gamma=0.2, learning_rate=0.3, max_depth=7, min_child_weight=7, n_estimators=1000, scale_pos_weight=7, subsample=0.9;, score=(train=-3627.490, test=-160321.127) total time=   0.8s\n",
      "[CV 1/4] END colsample_bytree=0.5, gamma=0.2, learning_rate=0.01, max_depth=3, min_child_weight=15, n_estimators=2000, scale_pos_weight=9, subsample=0.8;, score=(train=-93110.717, test=-115474.776) total time=   0.6s\n",
      "[CV 2/4] END colsample_bytree=0.5, gamma=0.2, learning_rate=0.01, max_depth=3, min_child_weight=15, n_estimators=2000, scale_pos_weight=9, subsample=0.8;, score=(train=-97656.911, test=-124522.177) total time=   0.6s\n",
      "[CV 3/4] END colsample_bytree=0.5, gamma=0.2, learning_rate=0.01, max_depth=3, min_child_weight=15, n_estimators=2000, scale_pos_weight=9, subsample=0.8;, score=(train=-92188.356, test=-138055.024) total time=   0.6s\n",
      "[CV 4/4] END colsample_bytree=0.5, gamma=0.2, learning_rate=0.01, max_depth=3, min_child_weight=15, n_estimators=2000, scale_pos_weight=9, subsample=0.8;, score=(train=-93358.994, test=-129313.626) total time=   0.6s\n",
      "[CV 2/4] END colsample_bytree=1.0, gamma=0.1, learning_rate=0.001, max_depth=30, min_child_weight=15, n_estimators=1000, scale_pos_weight=7, subsample=0.9;, score=(train=-152013.649, test=-144957.813) total time=   0.9s[CV 1/4] END colsample_bytree=1.0, gamma=0.1, learning_rate=0.001, max_depth=30, min_child_weight=15, n_estimators=1000, scale_pos_weight=7, subsample=0.9;, score=(train=-154802.376, test=-148377.560) total time=   0.9s\n",
      "\n",
      "[CV 1/4] END colsample_bytree=1.0, gamma=0.3, learning_rate=0.1, max_depth=3, min_child_weight=1, n_estimators=100, scale_pos_weight=6, subsample=0.9;, score=(train=-67687.272, test=-124924.671) total time=   0.1s[CV 2/4] END colsample_bytree=1.0, gamma=0.3, learning_rate=0.1, max_depth=3, min_child_weight=1, n_estimators=100, scale_pos_weight=6, subsample=0.9;, score=(train=-69017.409, test=-118308.308) total time=   0.1s\n",
      "\n",
      "[CV 3/4] END colsample_bytree=1.0, gamma=0.1, learning_rate=0.001, max_depth=30, min_child_weight=15, n_estimators=1000, scale_pos_weight=7, subsample=0.9;, score=(train=-143416.878, test=-166185.802) total time=   0.9s\n",
      "[CV 3/4] END colsample_bytree=1.0, gamma=0.3, learning_rate=0.1, max_depth=3, min_child_weight=1, n_estimators=100, scale_pos_weight=6, subsample=0.9;, score=(train=-66455.732, test=-131525.623) total time=   0.1s[CV 4/4] END colsample_bytree=1.0, gamma=0.1, learning_rate=0.001, max_depth=30, min_child_weight=15, n_estimators=1000, scale_pos_weight=7, subsample=0.9;, score=(train=-142015.066, test=-180987.814) total time=   1.0s\n",
      "\n",
      "[CV 4/4] END colsample_bytree=1.0, gamma=0.3, learning_rate=0.1, max_depth=3, min_child_weight=1, n_estimators=100, scale_pos_weight=6, subsample=0.9;, score=(train=-64399.520, test=-145463.902) total time=   0.1s\n",
      "[CV 1/4] END colsample_bytree=0.9, gamma=0.5, learning_rate=0.2, max_depth=30, min_child_weight=7, n_estimators=50, scale_pos_weight=4, subsample=0.5;, score=(train=-61959.106, test=-114757.910) total time=   0.1s\n",
      "[CV 3/4] END colsample_bytree=0.9, gamma=0.5, learning_rate=0.2, max_depth=30, min_child_weight=7, n_estimators=50, scale_pos_weight=4, subsample=0.5;, score=(train=-58416.325, test=-137794.643) total time=   0.1s[CV 2/4] END colsample_bytree=0.9, gamma=0.5, learning_rate=0.2, max_depth=30, min_child_weight=7, n_estimators=50, scale_pos_weight=4, subsample=0.5;, score=(train=-62559.339, test=-132247.017) total time=   0.1s\n",
      "\n",
      "[CV 4/4] END colsample_bytree=0.9, gamma=0.5, learning_rate=0.2, max_depth=30, min_child_weight=7, n_estimators=50, scale_pos_weight=4, subsample=0.5;, score=(train=-62136.592, test=-146842.300) total time=   0.1s\n",
      "[CV 1/4] END colsample_bytree=0.5, gamma=0.2, learning_rate=0.3, max_depth=5, min_child_weight=5, n_estimators=100, scale_pos_weight=7, subsample=1.0;, score=(train=-41312.782, test=-122050.438) total time=   0.1s\n",
      "[CV 2/4] END colsample_bytree=0.5, gamma=0.2, learning_rate=0.3, max_depth=5, min_child_weight=5, n_estimators=100, scale_pos_weight=7, subsample=1.0;, score=(train=-40373.324, test=-123494.682) total time=   0.1s\n",
      "[CV 4/4] END colsample_bytree=0.5, gamma=0.2, learning_rate=0.3, max_depth=5, min_child_weight=5, n_estimators=100, scale_pos_weight=7, subsample=1.0;, score=(train=-43085.606, test=-141602.789) total time=   0.1s\n",
      "[CV 3/4] END colsample_bytree=0.5, gamma=0.2, learning_rate=0.3, max_depth=5, min_child_weight=5, n_estimators=100, scale_pos_weight=7, subsample=1.0;, score=(train=-41741.949, test=-147481.376) total time=   0.1s\n",
      "[CV 2/4] END colsample_bytree=0.5, gamma=0.5, learning_rate=0.1, max_depth=9, min_child_weight=10, n_estimators=1000, scale_pos_weight=8, subsample=1.0;, score=(train=-19201.732, test=-149547.209) total time=   0.7s\n",
      "[CV 3/4] END colsample_bytree=0.5, gamma=0.5, learning_rate=0.1, max_depth=9, min_child_weight=10, n_estimators=1000, scale_pos_weight=8, subsample=1.0;, score=(train=-16318.424, test=-152041.816) total time=   0.7s\n",
      "[CV 4/4] END colsample_bytree=0.5, gamma=0.5, learning_rate=0.1, max_depth=9, min_child_weight=10, n_estimators=1000, scale_pos_weight=8, subsample=1.0;, score=(train=-15195.115, test=-139394.072) total time=   0.8s\n",
      "[CV 1/4] END colsample_bytree=0.5, gamma=0.5, learning_rate=0.1, max_depth=9, min_child_weight=10, n_estimators=1000, scale_pos_weight=8, subsample=1.0;, score=(train=-13262.482, test=-115935.339) total time=   0.8s\n",
      "[CV 1/4] END colsample_bytree=0.5, gamma=0, learning_rate=0.2, max_depth=7, min_child_weight=5, n_estimators=50, scale_pos_weight=4, subsample=0.9;, score=(train=-56012.184, test=-122620.353) total time=   0.1s\n",
      "[CV 2/4] END colsample_bytree=0.5, gamma=0, learning_rate=0.2, max_depth=7, min_child_weight=5, n_estimators=50, scale_pos_weight=4, subsample=0.9;, score=(train=-56712.880, test=-113507.991) total time=   0.1s\n",
      "[CV 4/4] END colsample_bytree=0.5, gamma=0, learning_rate=0.2, max_depth=7, min_child_weight=5, n_estimators=50, scale_pos_weight=4, subsample=0.9;, score=(train=-55255.756, test=-136932.140) total time=   0.1s\n",
      "[CV 3/4] END colsample_bytree=0.5, gamma=0, learning_rate=0.2, max_depth=7, min_child_weight=5, n_estimators=50, scale_pos_weight=4, subsample=0.9;, score=(train=-52574.273, test=-127319.329) total time=   0.1s\n",
      "[CV 1/4] END colsample_bytree=0.8, gamma=0, learning_rate=0.01, max_depth=15, min_child_weight=15, n_estimators=50, scale_pos_weight=1, subsample=0.8;, score=(train=-210116.099, test=-191731.957) total time=   0.1s\n",
      "[CV 2/4] END colsample_bytree=0.8, gamma=0, learning_rate=0.01, max_depth=15, min_child_weight=15, n_estimators=50, scale_pos_weight=1, subsample=0.8;, score=(train=-205324.446, test=-188820.687) total time=   0.1s\n",
      "[CV 3/4] END colsample_bytree=0.8, gamma=0, learning_rate=0.01, max_depth=15, min_child_weight=15, n_estimators=50, scale_pos_weight=1, subsample=0.8;, score=(train=-188752.675, test=-222140.532) total time=   0.1s\n",
      "[CV 4/4] END colsample_bytree=0.8, gamma=0, learning_rate=0.01, max_depth=15, min_child_weight=15, n_estimators=50, scale_pos_weight=1, subsample=0.8;, score=(train=-193350.811, test=-219043.258) total time=   0.1s\n",
      "[CV 2/4] END colsample_bytree=1.0, gamma=0.3, learning_rate=0.001, max_depth=5, min_child_weight=3, n_estimators=100, scale_pos_weight=7, subsample=0.5;, score=(train=-267997.683, test=-245892.151) total time=   0.1s\n",
      "[CV 1/4] END colsample_bytree=1.0, gamma=0.3, learning_rate=0.001, max_depth=5, min_child_weight=3, n_estimators=100, scale_pos_weight=7, subsample=0.5;, score=(train=-276121.556, test=-241678.819) total time=   0.1s\n",
      "[CV 3/4] END colsample_bytree=1.0, gamma=0.3, learning_rate=0.001, max_depth=5, min_child_weight=3, n_estimators=100, scale_pos_weight=7, subsample=0.5;, score=(train=-243789.257, test=-287233.400) total time=   0.1s\n",
      "[CV 4/4] END colsample_bytree=1.0, gamma=0.3, learning_rate=0.001, max_depth=5, min_child_weight=3, n_estimators=100, scale_pos_weight=7, subsample=0.5;, score=(train=-254113.318, test=-273670.074) total time=   0.1s\n",
      "[CV 2/4] END colsample_bytree=0.5, gamma=0.1, learning_rate=0.3, max_depth=30, min_child_weight=1, n_estimators=2000, scale_pos_weight=7, subsample=0.9;, score=(train=-142.489, test=-132079.956) total time=   8.4s\n",
      "[CV 2/4] END colsample_bytree=0.9, gamma=0.2, learning_rate=0.2, max_depth=25, min_child_weight=3, n_estimators=1000, scale_pos_weight=7, subsample=0.8;, score=(train=-155.060, test=-112505.445) total time=   3.1s\n",
      "[CV 1/4] END colsample_bytree=0.5, gamma=0.1, learning_rate=0.3, max_depth=30, min_child_weight=1, n_estimators=2000, scale_pos_weight=7, subsample=0.9;, score=(train=-227.691, test=-126456.783) total time=   8.6s\n",
      "[CV 3/4] END colsample_bytree=0.9, gamma=0.2, learning_rate=0.2, max_depth=25, min_child_weight=3, n_estimators=1000, scale_pos_weight=7, subsample=0.8;, score=(train=-2562.492, test=-136485.186) total time=   3.2s\n",
      "[CV 4/4] END colsample_bytree=0.9, gamma=0.2, learning_rate=0.2, max_depth=25, min_child_weight=3, n_estimators=1000, scale_pos_weight=7, subsample=0.8;, score=(train=-2025.991, test=-144645.805) total time=   3.2s\n",
      "[CV 1/4] END colsample_bytree=0.9, gamma=0.2, learning_rate=0.2, max_depth=25, min_child_weight=3, n_estimators=1000, scale_pos_weight=7, subsample=0.8;, score=(train=-268.363, test=-120988.580) total time=   3.3s\n",
      "[CV 2/4] END colsample_bytree=0.9, gamma=0.2, learning_rate=0.3, max_depth=3, min_child_weight=15, n_estimators=1000, scale_pos_weight=8, subsample=1.0;, score=(train=-37001.122, test=-126654.065) total time=   0.2s\n",
      "[CV 1/4] END colsample_bytree=0.9, gamma=0.2, learning_rate=0.3, max_depth=3, min_child_weight=15, n_estimators=1000, scale_pos_weight=8, subsample=1.0;, score=(train=-26737.993, test=-122098.780) total time=   0.3s\n",
      "[CV 4/4] END colsample_bytree=0.9, gamma=0.2, learning_rate=0.3, max_depth=3, min_child_weight=15, n_estimators=1000, scale_pos_weight=8, subsample=1.0;, score=(train=-33531.199, test=-149354.418) total time=   0.3s\n",
      "[CV 1/4] END colsample_bytree=0.5, gamma=0.1, learning_rate=0.2, max_depth=7, min_child_weight=10, n_estimators=50, scale_pos_weight=9, subsample=1.0;, score=(train=-73807.601, test=-112702.984) total time=   0.0s\n",
      "[CV 2/4] END colsample_bytree=0.5, gamma=0.1, learning_rate=0.2, max_depth=7, min_child_weight=10, n_estimators=50, scale_pos_weight=9, subsample=1.0;, score=(train=-72198.485, test=-124376.041) total time=   0.0s\n",
      "[CV 3/4] END colsample_bytree=0.9, gamma=0.2, learning_rate=0.3, max_depth=3, min_child_weight=15, n_estimators=1000, scale_pos_weight=8, subsample=1.0;, score=(train=-36913.436, test=-160800.113) total time=   0.4s\n",
      "[CV 3/4] END colsample_bytree=0.5, gamma=0.1, learning_rate=0.2, max_depth=7, min_child_weight=10, n_estimators=50, scale_pos_weight=9, subsample=1.0;, score=(train=-66275.874, test=-140519.076) total time=   0.0s\n",
      "[CV 3/4] END colsample_bytree=0.5, gamma=0.1, learning_rate=0.3, max_depth=30, min_child_weight=1, n_estimators=2000, scale_pos_weight=7, subsample=0.9;, score=(train=-2543.971, test=-148697.074) total time=   9.7s\n",
      "[CV 4/4] END colsample_bytree=0.5, gamma=0.1, learning_rate=0.2, max_depth=7, min_child_weight=10, n_estimators=50, scale_pos_weight=9, subsample=1.0;, score=(train=-70850.365, test=-140852.836) total time=   0.0s\n",
      "[CV 1/4] END colsample_bytree=0.5, gamma=0.2, learning_rate=0.3, max_depth=30, min_child_weight=15, n_estimators=100, scale_pos_weight=7, subsample=1.0;, score=(train=-45341.974, test=-122732.124) total time=   0.1s\n",
      "[CV 3/4] END colsample_bytree=0.5, gamma=0.2, learning_rate=0.3, max_depth=30, min_child_weight=15, n_estimators=100, scale_pos_weight=7, subsample=1.0;, score=(train=-45325.382, test=-147020.134) total time=   0.1s\n",
      "[CV 2/4] END colsample_bytree=0.5, gamma=0.2, learning_rate=0.3, max_depth=30, min_child_weight=15, n_estimators=100, scale_pos_weight=7, subsample=1.0;, score=(train=-46750.066, test=-130594.445) total time=   0.1s\n",
      "[CV 4/4] END colsample_bytree=0.5, gamma=0.1, learning_rate=0.3, max_depth=30, min_child_weight=1, n_estimators=2000, scale_pos_weight=7, subsample=0.9;, score=(train=-2141.051, test=-144616.336) total time=   9.8s\n",
      "[CV 4/4] END colsample_bytree=0.5, gamma=0.2, learning_rate=0.3, max_depth=30, min_child_weight=15, n_estimators=100, scale_pos_weight=7, subsample=1.0;, score=(train=-48527.117, test=-139108.291) total time=   0.1s\n",
      "[CV 2/4] END colsample_bytree=1.0, gamma=0.1, learning_rate=0.001, max_depth=3, min_child_weight=20, n_estimators=200, scale_pos_weight=4, subsample=0.5;, score=(train=-248931.060, test=-228457.058) total time=   0.1s\n",
      "[CV 1/4] END colsample_bytree=1.0, gamma=0.1, learning_rate=0.001, max_depth=3, min_child_weight=20, n_estimators=200, scale_pos_weight=4, subsample=0.5;, score=(train=-256577.691, test=-225461.522) total time=   0.1s\n",
      "[CV 3/4] END colsample_bytree=1.0, gamma=0.1, learning_rate=0.001, max_depth=3, min_child_weight=20, n_estimators=200, scale_pos_weight=4, subsample=0.5;, score=(train=-227513.821, test=-265170.327) total time=   0.1s\n",
      "[CV 4/4] END colsample_bytree=1.0, gamma=0.1, learning_rate=0.001, max_depth=3, min_child_weight=20, n_estimators=200, scale_pos_weight=4, subsample=0.5;, score=(train=-236558.523, test=-256088.898) total time=   0.1s\n",
      "[CV 2/4] END colsample_bytree=0.8, gamma=0.2, learning_rate=0.3, max_depth=7, min_child_weight=10, n_estimators=300, scale_pos_weight=5, subsample=0.5;, score=(train=-34130.070, test=-140690.168) total time=   0.1s\n",
      "[CV 1/4] END colsample_bytree=0.8, gamma=0.2, learning_rate=0.3, max_depth=7, min_child_weight=10, n_estimators=300, scale_pos_weight=5, subsample=0.5;, score=(train=-33776.888, test=-130064.926) total time=   0.1s\n",
      "[CV 1/4] END colsample_bytree=0.9, gamma=0.5, learning_rate=0.3, max_depth=5, min_child_weight=20, n_estimators=50, scale_pos_weight=4, subsample=0.5;, score=(train=-105166.406, test=-127670.540) total time=   0.0s\n",
      "[CV 2/4] END colsample_bytree=0.9, gamma=0.5, learning_rate=0.3, max_depth=5, min_child_weight=20, n_estimators=50, scale_pos_weight=4, subsample=0.5;, score=(train=-103384.454, test=-129183.743) total time=   0.0s\n",
      "[CV 3/4] END colsample_bytree=0.8, gamma=0.2, learning_rate=0.3, max_depth=7, min_child_weight=10, n_estimators=300, scale_pos_weight=5, subsample=0.5;, score=(train=-30717.453, test=-164351.211) total time=   0.1s\n",
      "[CV 4/4] END colsample_bytree=0.8, gamma=0.2, learning_rate=0.3, max_depth=7, min_child_weight=10, n_estimators=300, scale_pos_weight=5, subsample=0.5;, score=(train=-35442.238, test=-152681.787) total time=   0.2s\n",
      "[CV 3/4] END colsample_bytree=0.9, gamma=0.5, learning_rate=0.3, max_depth=5, min_child_weight=20, n_estimators=50, scale_pos_weight=4, subsample=0.5;, score=(train=-101468.895, test=-135387.478) total time=   0.0s\n",
      "[CV 4/4] END colsample_bytree=0.9, gamma=0.5, learning_rate=0.3, max_depth=5, min_child_weight=20, n_estimators=50, scale_pos_weight=4, subsample=0.5;, score=(train=-98313.899, test=-149443.459) total time=   0.0s\n",
      "[CV 1/4] END colsample_bytree=0.8, gamma=0, learning_rate=0.01, max_depth=9, min_child_weight=5, n_estimators=2000, scale_pos_weight=3, subsample=0.8;, score=(train=-23457.077, test=-121647.181) total time=   1.5s\n",
      "[CV 1/4] END colsample_bytree=1.0, gamma=0.5, learning_rate=0.1, max_depth=3, min_child_weight=3, n_estimators=100, scale_pos_weight=9, subsample=1.0;, score=(train=-76995.494, test=-127749.107) total time=   0.0s\n",
      "[CV 2/4] END colsample_bytree=0.8, gamma=0, learning_rate=0.01, max_depth=9, min_child_weight=5, n_estimators=2000, scale_pos_weight=3, subsample=0.8;, score=(train=-24018.218, test=-109669.886) total time=   1.5s\n",
      "[CV 2/4] END colsample_bytree=1.0, gamma=0.5, learning_rate=0.1, max_depth=3, min_child_weight=3, n_estimators=100, scale_pos_weight=9, subsample=1.0;, score=(train=-75405.434, test=-109404.726) total time=   0.0s\n",
      "[CV 3/4] END colsample_bytree=1.0, gamma=0.5, learning_rate=0.1, max_depth=3, min_child_weight=3, n_estimators=100, scale_pos_weight=9, subsample=1.0;, score=(train=-75295.129, test=-123930.621) total time=   0.0s\n",
      "[CV 4/4] END colsample_bytree=1.0, gamma=0.5, learning_rate=0.1, max_depth=3, min_child_weight=3, n_estimators=100, scale_pos_weight=9, subsample=1.0;, score=(train=-76125.800, test=-142840.660) total time=   0.0s\n",
      "[CV 4/4] END colsample_bytree=0.8, gamma=0, learning_rate=0.01, max_depth=9, min_child_weight=5, n_estimators=2000, scale_pos_weight=3, subsample=0.8;, score=(train=-24010.104, test=-131699.762) total time=   1.5s\n",
      "[CV 1/4] END colsample_bytree=0.9, gamma=0, learning_rate=0.2, max_depth=3, min_child_weight=3, n_estimators=300, scale_pos_weight=2, subsample=1.0;, score=(train=-32327.779, test=-114312.987) total time=   0.1s\n",
      "[CV 2/4] END colsample_bytree=0.9, gamma=0, learning_rate=0.2, max_depth=3, min_child_weight=3, n_estimators=300, scale_pos_weight=2, subsample=1.0;, score=(train=-35474.633, test=-111964.695) total time=   0.1s\n",
      "[CV 3/4] END colsample_bytree=0.8, gamma=0, learning_rate=0.01, max_depth=9, min_child_weight=5, n_estimators=2000, scale_pos_weight=3, subsample=0.8;, score=(train=-21381.865, test=-136994.149) total time=   1.6s\n",
      "[CV 3/4] END colsample_bytree=0.9, gamma=0, learning_rate=0.2, max_depth=3, min_child_weight=3, n_estimators=300, scale_pos_weight=2, subsample=1.0;, score=(train=-36707.426, test=-145528.037) total time=   0.1s\n",
      "[CV 4/4] END colsample_bytree=0.9, gamma=0, learning_rate=0.2, max_depth=3, min_child_weight=3, n_estimators=300, scale_pos_weight=2, subsample=1.0;, score=(train=-31562.969, test=-134031.260) total time=   0.1s\n",
      "[CV 1/4] END colsample_bytree=0.8, gamma=0.3, learning_rate=0.1, max_depth=15, min_child_weight=15, n_estimators=200, scale_pos_weight=8, subsample=1.0;, score=(train=-47152.558, test=-115621.986) total time=   0.1s\n",
      "[CV 2/4] END colsample_bytree=0.8, gamma=0.3, learning_rate=0.1, max_depth=15, min_child_weight=15, n_estimators=200, scale_pos_weight=8, subsample=1.0;, score=(train=-49948.014, test=-120193.088) total time=   0.1s\n",
      "[CV 3/4] END colsample_bytree=0.8, gamma=0.3, learning_rate=0.1, max_depth=15, min_child_weight=15, n_estimators=200, scale_pos_weight=8, subsample=1.0;, score=(train=-46392.437, test=-135626.576) total time=   0.1s\n",
      "[CV 4/4] END colsample_bytree=0.8, gamma=0.3, learning_rate=0.1, max_depth=15, min_child_weight=15, n_estimators=200, scale_pos_weight=8, subsample=1.0;, score=(train=-49717.878, test=-132130.111) total time=   0.2s\n",
      "[CV 1/4] END colsample_bytree=0.5, gamma=0.2, learning_rate=0.1, max_depth=15, min_child_weight=15, n_estimators=2000, scale_pos_weight=6, subsample=0.9;, score=(train=-16184.123, test=-126714.731) total time=   1.1s\n",
      "[CV 3/4] END colsample_bytree=0.5, gamma=0.2, learning_rate=0.1, max_depth=15, min_child_weight=15, n_estimators=2000, scale_pos_weight=6, subsample=0.9;, score=(train=-15785.083, test=-165569.903) total time=   1.1s\n",
      "[CV 4/4] END colsample_bytree=0.5, gamma=0.2, learning_rate=0.1, max_depth=15, min_child_weight=15, n_estimators=2000, scale_pos_weight=6, subsample=0.9;, score=(train=-19485.413, test=-142268.693) total time=   1.1s\n",
      "[CV 2/4] END colsample_bytree=0.5, gamma=0.2, learning_rate=0.1, max_depth=15, min_child_weight=15, n_estimators=2000, scale_pos_weight=6, subsample=0.9;, score=(train=-18671.855, test=-136660.106) total time=   1.2s\n",
      "[CV 2/4] END colsample_bytree=0.9, gamma=0, learning_rate=0.1, max_depth=9, min_child_weight=5, n_estimators=2000, scale_pos_weight=9, subsample=1.0;, score=(train=-933.898, test=-119768.381) total time=   1.3s\n",
      "[CV 2/4] END colsample_bytree=0.5, gamma=0.1, learning_rate=0.001, max_depth=7, min_child_weight=3, n_estimators=1000, scale_pos_weight=7, subsample=0.8;, score=(train=-159198.959, test=-160661.620) total time=   0.8s\n",
      "[CV 1/4] END colsample_bytree=0.5, gamma=0.1, learning_rate=0.001, max_depth=7, min_child_weight=3, n_estimators=1000, scale_pos_weight=7, subsample=0.8;, score=(train=-162474.432, test=-160937.025) total time=   0.8s\n",
      "[CV 1/4] END colsample_bytree=0.9, gamma=0, learning_rate=0.1, max_depth=9, min_child_weight=5, n_estimators=2000, scale_pos_weight=9, subsample=1.0;, score=(train=-364.499, test=-130519.411) total time=   1.4s\n",
      "[CV 3/4] END colsample_bytree=0.9, gamma=0, learning_rate=0.1, max_depth=9, min_child_weight=5, n_estimators=2000, scale_pos_weight=9, subsample=1.0;, score=(train=-2414.457, test=-139174.888) total time=   1.4s\n",
      "[CV 3/4] END colsample_bytree=0.5, gamma=0.1, learning_rate=0.001, max_depth=7, min_child_weight=3, n_estimators=1000, scale_pos_weight=7, subsample=0.8;, score=(train=-146475.681, test=-187877.683) total time=   0.9s\n",
      "[CV 4/4] END colsample_bytree=0.5, gamma=0.1, learning_rate=0.001, max_depth=7, min_child_weight=3, n_estimators=1000, scale_pos_weight=7, subsample=0.8;, score=(train=-149829.355, test=-193697.001) total time=   0.9s\n",
      "[CV 4/4] END colsample_bytree=0.9, gamma=0, learning_rate=0.1, max_depth=9, min_child_weight=5, n_estimators=2000, scale_pos_weight=9, subsample=1.0;, score=(train=-1916.575, test=-137462.848) total time=   1.6s\n",
      "[CV 1/4] END colsample_bytree=0.5, gamma=0.1, learning_rate=0.01, max_depth=25, min_child_weight=20, n_estimators=2000, scale_pos_weight=5, subsample=0.9;, score=(train=-70694.805, test=-121051.354) total time=   0.9s\n",
      "[CV 2/4] END colsample_bytree=0.5, gamma=0.1, learning_rate=0.01, max_depth=25, min_child_weight=20, n_estimators=2000, scale_pos_weight=5, subsample=0.9;, score=(train=-73910.477, test=-124981.486) total time=   0.9s\n",
      "[CV 3/4] END colsample_bytree=0.5, gamma=0.1, learning_rate=0.01, max_depth=25, min_child_weight=20, n_estimators=2000, scale_pos_weight=5, subsample=0.9;, score=(train=-68882.447, test=-136329.006) total time=   0.9s\n",
      "[CV 4/4] END colsample_bytree=0.5, gamma=0.1, learning_rate=0.01, max_depth=25, min_child_weight=20, n_estimators=2000, scale_pos_weight=5, subsample=0.9;, score=(train=-72319.469, test=-133639.486) total time=   0.9s\n",
      "[CV 1/4] END colsample_bytree=1.0, gamma=0, learning_rate=0.1, max_depth=5, min_child_weight=5, n_estimators=1000, scale_pos_weight=9, subsample=0.8;, score=(train=-5263.341, test=-119012.363) total time=   0.4s\n",
      "[CV 1/4] END colsample_bytree=0.8, gamma=0.5, learning_rate=0.1, max_depth=30, min_child_weight=7, n_estimators=50, scale_pos_weight=7, subsample=1.0;, score=(train=-55954.537, test=-120358.814) total time=   0.1s\n",
      "[CV 3/4] END colsample_bytree=1.0, gamma=0, learning_rate=0.1, max_depth=5, min_child_weight=5, n_estimators=1000, scale_pos_weight=9, subsample=0.8;, score=(train=-9836.564, test=-152045.242) total time=   0.4s\n",
      "[CV 2/4] END colsample_bytree=1.0, gamma=0, learning_rate=0.1, max_depth=5, min_child_weight=5, n_estimators=1000, scale_pos_weight=9, subsample=0.8;, score=(train=-7311.281, test=-120043.404) total time=   0.5s\n",
      "[CV 2/4] END colsample_bytree=0.8, gamma=0.5, learning_rate=0.1, max_depth=30, min_child_weight=7, n_estimators=50, scale_pos_weight=7, subsample=1.0;, score=(train=-55586.035, test=-104563.404) total time=   0.1s\n",
      "[CV 3/4] END colsample_bytree=0.8, gamma=0.5, learning_rate=0.1, max_depth=30, min_child_weight=7, n_estimators=50, scale_pos_weight=7, subsample=1.0;, score=(train=-52999.035, test=-127032.272) total time=   0.1s\n",
      "[CV 1/4] END colsample_bytree=1.0, gamma=0.5, learning_rate=0.001, max_depth=9, min_child_weight=1, n_estimators=1000, scale_pos_weight=7, subsample=0.8;, score=(train=-134118.533, test=-167999.256) total time=   1.7s\n",
      "[CV 2/4] END colsample_bytree=1.0, gamma=0.5, learning_rate=0.001, max_depth=9, min_child_weight=1, n_estimators=1000, scale_pos_weight=7, subsample=0.8;, score=(train=-131470.699, test=-154327.668) total time=   1.7s\n",
      "[CV 4/4] END colsample_bytree=1.0, gamma=0, learning_rate=0.1, max_depth=5, min_child_weight=5, n_estimators=1000, scale_pos_weight=9, subsample=0.8;, score=(train=-8115.615, test=-136959.251) total time=   0.4s\n",
      "[CV 4/4] END colsample_bytree=0.8, gamma=0.5, learning_rate=0.1, max_depth=30, min_child_weight=7, n_estimators=50, scale_pos_weight=7, subsample=1.0;, score=(train=-51302.671, test=-142421.705) total time=   0.1s\n",
      "[CV 4/4] END colsample_bytree=1.0, gamma=0.5, learning_rate=0.001, max_depth=9, min_child_weight=1, n_estimators=1000, scale_pos_weight=7, subsample=0.8;, score=(train=-123904.192, test=-190307.571) total time=   1.7s\n",
      "[CV 1/4] END colsample_bytree=0.8, gamma=0.5, learning_rate=0.001, max_depth=3, min_child_weight=1, n_estimators=500, scale_pos_weight=9, subsample=1.0;, score=(train=-215316.824, test=-191938.032) total time=   0.1s\n",
      "[CV 2/4] END colsample_bytree=0.8, gamma=0.5, learning_rate=0.001, max_depth=3, min_child_weight=1, n_estimators=500, scale_pos_weight=9, subsample=1.0;, score=(train=-209982.070, test=-194542.802) total time=   0.1s\n",
      "[CV 3/4] END colsample_bytree=1.0, gamma=0.5, learning_rate=0.001, max_depth=9, min_child_weight=1, n_estimators=1000, scale_pos_weight=7, subsample=0.8;, score=(train=-121725.965, test=-187281.762) total time=   1.8s\n",
      "[CV 3/4] END colsample_bytree=0.8, gamma=0.5, learning_rate=0.001, max_depth=3, min_child_weight=1, n_estimators=500, scale_pos_weight=9, subsample=1.0;, score=(train=-191679.687, test=-227202.293) total time=   0.1s\n",
      "[CV 4/4] END colsample_bytree=0.8, gamma=0.5, learning_rate=0.001, max_depth=3, min_child_weight=1, n_estimators=500, scale_pos_weight=9, subsample=1.0;, score=(train=-197862.097, test=-225024.212) total time=   0.1s\n",
      "[CV 2/4] END colsample_bytree=0.5, gamma=0.5, learning_rate=0.1, max_depth=5, min_child_weight=1, n_estimators=300, scale_pos_weight=3, subsample=0.9;, score=(train=-16233.425, test=-119316.707) total time=   0.1s\n",
      "[CV 1/4] END colsample_bytree=0.5, gamma=0.5, learning_rate=0.1, max_depth=5, min_child_weight=1, n_estimators=300, scale_pos_weight=3, subsample=0.9;, score=(train=-15896.694, test=-123791.076) total time=   0.1s\n",
      "[CV 3/4] END colsample_bytree=0.5, gamma=0.5, learning_rate=0.1, max_depth=5, min_child_weight=1, n_estimators=300, scale_pos_weight=3, subsample=0.9;, score=(train=-17910.443, test=-141165.348) total time=   0.1s\n",
      "[CV 4/4] END colsample_bytree=0.5, gamma=0.5, learning_rate=0.1, max_depth=5, min_child_weight=1, n_estimators=300, scale_pos_weight=3, subsample=0.9;, score=(train=-16883.136, test=-136638.547) total time=   0.1s\n",
      "[CV 2/4] END colsample_bytree=0.8, gamma=0, learning_rate=0.01, max_depth=25, min_child_weight=15, n_estimators=300, scale_pos_weight=1, subsample=0.5;, score=(train=-121021.750, test=-122803.654) total time=   0.1s\n",
      "[CV 1/4] END colsample_bytree=0.8, gamma=0, learning_rate=0.01, max_depth=25, min_child_weight=15, n_estimators=300, scale_pos_weight=1, subsample=0.5;, score=(train=-124617.884, test=-121341.065) total time=   0.2s\n",
      "[CV 3/4] END colsample_bytree=0.8, gamma=0, learning_rate=0.01, max_depth=25, min_child_weight=15, n_estimators=300, scale_pos_weight=1, subsample=0.5;, score=(train=-114643.822, test=-142107.019) total time=   0.1s\n",
      "[CV 4/4] END colsample_bytree=0.8, gamma=0, learning_rate=0.01, max_depth=25, min_child_weight=15, n_estimators=300, scale_pos_weight=1, subsample=0.5;, score=(train=-112318.960, test=-151318.352) total time=   0.1s\n",
      "[CV 1/4] END colsample_bytree=0.8, gamma=0, learning_rate=0.001, max_depth=25, min_child_weight=15, n_estimators=2000, scale_pos_weight=9, subsample=0.9;, score=(train=-120137.365, test=-123358.391) total time=   1.1s\n",
      "[CV 4/4] END colsample_bytree=0.8, gamma=0, learning_rate=0.001, max_depth=25, min_child_weight=15, n_estimators=2000, scale_pos_weight=9, subsample=0.9;, score=(train=-111751.299, test=-156782.187) total time=   1.1s\n",
      "[CV 3/4] END colsample_bytree=0.8, gamma=0, learning_rate=0.001, max_depth=25, min_child_weight=15, n_estimators=2000, scale_pos_weight=9, subsample=0.9;, score=(train=-115179.246, test=-143691.578) total time=   1.1s\n",
      "[CV 2/4] END colsample_bytree=0.8, gamma=0, learning_rate=0.001, max_depth=25, min_child_weight=15, n_estimators=2000, scale_pos_weight=9, subsample=0.9;, score=(train=-119840.497, test=-123415.516) total time=   1.3s\n",
      "[CV 1/4] END colsample_bytree=0.8, gamma=0.5, learning_rate=0.001, max_depth=25, min_child_weight=15, n_estimators=500, scale_pos_weight=3, subsample=0.9;, score=(train=-209222.853, test=-192828.944) total time=   0.2s\n",
      "[CV 2/4] END colsample_bytree=0.8, gamma=0.5, learning_rate=0.001, max_depth=25, min_child_weight=15, n_estimators=500, scale_pos_weight=3, subsample=0.9;, score=(train=-205237.122, test=-189703.124) total time=   0.2s\n",
      "[CV 3/4] END colsample_bytree=0.8, gamma=0.5, learning_rate=0.001, max_depth=25, min_child_weight=15, n_estimators=500, scale_pos_weight=3, subsample=0.9;, score=(train=-188646.837, test=-221578.864) total time=   0.3s\n",
      "[CV 1/4] END colsample_bytree=0.8, gamma=0.2, learning_rate=0.3, max_depth=15, min_child_weight=7, n_estimators=300, scale_pos_weight=1, subsample=0.5;, score=(train=-17146.968, test=-127289.502) total time=   0.2s\n",
      "[CV 3/4] END colsample_bytree=0.8, gamma=0.2, learning_rate=0.3, max_depth=15, min_child_weight=7, n_estimators=300, scale_pos_weight=1, subsample=0.5;, score=(train=-17904.991, test=-173227.383) total time=   0.2s\n",
      "[CV 2/4] END colsample_bytree=0.8, gamma=0.2, learning_rate=0.3, max_depth=15, min_child_weight=7, n_estimators=300, scale_pos_weight=1, subsample=0.5;, score=(train=-19541.208, test=-157509.012) total time=   0.2s\n",
      "[CV 4/4] END colsample_bytree=0.8, gamma=0.5, learning_rate=0.001, max_depth=25, min_child_weight=15, n_estimators=500, scale_pos_weight=3, subsample=0.9;, score=(train=-193072.302, test=-218509.077) total time=   0.3s\n",
      "[CV 4/4] END colsample_bytree=0.8, gamma=0.2, learning_rate=0.3, max_depth=15, min_child_weight=7, n_estimators=300, scale_pos_weight=1, subsample=0.5;, score=(train=-19290.161, test=-153316.704) total time=   0.2s\n",
      "[CV 3/4] END colsample_bytree=0.8, gamma=0.2, learning_rate=0.2, max_depth=7, min_child_weight=3, n_estimators=2000, scale_pos_weight=9, subsample=0.9;, score=(train=-2618.201, test=-143205.499) total time=   1.3s[CV 1/4] END colsample_bytree=0.8, gamma=0.2, learning_rate=0.2, max_depth=7, min_child_weight=3, n_estimators=2000, scale_pos_weight=9, subsample=0.9;, score=(train=-258.085, test=-119668.572) total time=   1.3s\n",
      "\n",
      "[CV 4/4] END colsample_bytree=0.8, gamma=0.2, learning_rate=0.2, max_depth=7, min_child_weight=3, n_estimators=2000, scale_pos_weight=9, subsample=0.9;, score=(train=-2202.019, test=-134297.888) total time=   1.2s\n",
      "[CV 2/4] END colsample_bytree=0.8, gamma=0.2, learning_rate=0.2, max_depth=7, min_child_weight=3, n_estimators=2000, scale_pos_weight=9, subsample=0.9;, score=(train=-158.943, test=-112395.573) total time=   1.4s\n",
      "[CV 3/4] END colsample_bytree=0.8, gamma=0.3, learning_rate=0.1, max_depth=25, min_child_weight=5, n_estimators=2000, scale_pos_weight=6, subsample=0.9;, score=(train=-2368.739, test=-139415.939) total time=   3.1s\n",
      "[CV 4/4] END colsample_bytree=0.8, gamma=0, learning_rate=0.2, max_depth=7, min_child_weight=1, n_estimators=1000, scale_pos_weight=2, subsample=0.8;, score=(train=-1972.250, test=-146651.598) total time=   0.8s\n",
      "[CV 3/4] END colsample_bytree=0.8, gamma=0, learning_rate=0.2, max_depth=7, min_child_weight=1, n_estimators=1000, scale_pos_weight=2, subsample=0.8;, score=(train=-2403.462, test=-140566.203) total time=   0.9s\n",
      "[CV 1/4] END colsample_bytree=0.8, gamma=0, learning_rate=0.2, max_depth=7, min_child_weight=1, n_estimators=1000, scale_pos_weight=2, subsample=0.8;, score=(train=-247.137, test=-136366.009) total time=   0.9s\n",
      "[CV 2/4] END colsample_bytree=0.8, gamma=0.3, learning_rate=0.1, max_depth=25, min_child_weight=5, n_estimators=2000, scale_pos_weight=6, subsample=0.9;, score=(train=-820.052, test=-121515.955) total time=   3.5s\n",
      "[CV 2/4] END colsample_bytree=0.8, gamma=0, learning_rate=0.2, max_depth=7, min_child_weight=1, n_estimators=1000, scale_pos_weight=2, subsample=0.8;, score=(train=-148.296, test=-124060.177) total time=   1.1s\n",
      "[CV 1/4] END colsample_bytree=0.9, gamma=0.1, learning_rate=0.01, max_depth=9, min_child_weight=20, n_estimators=100, scale_pos_weight=9, subsample=0.8;, score=(train=-166111.201, test=-149709.206) total time=   0.1s\n",
      "[CV 2/4] END colsample_bytree=0.9, gamma=0.1, learning_rate=0.01, max_depth=9, min_child_weight=20, n_estimators=100, scale_pos_weight=9, subsample=0.8;, score=(train=-160574.397, test=-151368.579) total time=   0.1s\n",
      "[CV 4/4] END colsample_bytree=0.8, gamma=0.3, learning_rate=0.1, max_depth=25, min_child_weight=5, n_estimators=2000, scale_pos_weight=6, subsample=0.9;, score=(train=-1995.684, test=-132691.911) total time=   3.6s\n",
      "[CV 3/4] END colsample_bytree=0.9, gamma=0.1, learning_rate=0.01, max_depth=9, min_child_weight=20, n_estimators=100, scale_pos_weight=9, subsample=0.8;, score=(train=-150043.393, test=-174299.708) total time=   0.1s\n",
      "[CV 1/4] END colsample_bytree=0.8, gamma=0.3, learning_rate=0.1, max_depth=25, min_child_weight=5, n_estimators=2000, scale_pos_weight=6, subsample=0.9;, score=(train=-271.404, test=-121927.717) total time=   3.7s\n",
      "[CV 4/4] END colsample_bytree=0.9, gamma=0.1, learning_rate=0.01, max_depth=9, min_child_weight=20, n_estimators=100, scale_pos_weight=9, subsample=0.8;, score=(train=-149575.858, test=-185884.212) total time=   0.1s\n",
      "[CV 1/4] END colsample_bytree=0.5, gamma=0.1, learning_rate=0.001, max_depth=9, min_child_weight=10, n_estimators=300, scale_pos_weight=1, subsample=0.5;, score=(train=-249689.320, test=-220480.521) total time=   0.1s\n",
      "[CV 2/4] END colsample_bytree=0.5, gamma=0.1, learning_rate=0.001, max_depth=9, min_child_weight=10, n_estimators=300, scale_pos_weight=1, subsample=0.5;, score=(train=-242145.322, test=-223607.142) total time=   0.1s\n",
      "[CV 4/4] END colsample_bytree=0.5, gamma=0.1, learning_rate=0.001, max_depth=9, min_child_weight=10, n_estimators=300, scale_pos_weight=1, subsample=0.5;, score=(train=-228950.722, test=-250849.488) total time=   0.1s\n",
      "[CV 3/4] END colsample_bytree=0.5, gamma=0.1, learning_rate=0.001, max_depth=9, min_child_weight=10, n_estimators=300, scale_pos_weight=1, subsample=0.5;, score=(train=-221387.052, test=-260750.961) total time=   0.2s\n",
      "[CV 1/4] END colsample_bytree=0.9, gamma=0, learning_rate=0.1, max_depth=9, min_child_weight=10, n_estimators=300, scale_pos_weight=7, subsample=1.0;, score=(train=-29423.869, test=-114736.408) total time=   0.2s\n",
      "[CV 2/4] END colsample_bytree=0.9, gamma=0, learning_rate=0.1, max_depth=9, min_child_weight=10, n_estimators=300, scale_pos_weight=7, subsample=1.0;, score=(train=-35243.286, test=-127051.940) total time=   0.2s\n",
      "[CV 3/4] END colsample_bytree=0.9, gamma=0, learning_rate=0.1, max_depth=9, min_child_weight=10, n_estimators=300, scale_pos_weight=7, subsample=1.0;, score=(train=-29399.593, test=-148300.907) total time=   0.2s\n",
      "[CV 4/4] END colsample_bytree=0.9, gamma=0, learning_rate=0.1, max_depth=9, min_child_weight=10, n_estimators=300, scale_pos_weight=7, subsample=1.0;, score=(train=-30213.355, test=-136616.910) total time=   0.2s\n",
      "[CV 1/4] END colsample_bytree=0.9, gamma=0.5, learning_rate=0.2, max_depth=7, min_child_weight=20, n_estimators=500, scale_pos_weight=5, subsample=0.9;, score=(train=-29359.927, test=-128126.605) total time=   0.3s\n",
      "[CV 3/4] END colsample_bytree=0.9, gamma=0.5, learning_rate=0.2, max_depth=7, min_child_weight=20, n_estimators=500, scale_pos_weight=5, subsample=0.9;, score=(train=-27032.363, test=-152374.480) total time=   0.3s\n",
      "[CV 4/4] END colsample_bytree=0.9, gamma=0.5, learning_rate=0.2, max_depth=7, min_child_weight=20, n_estimators=500, scale_pos_weight=5, subsample=0.9;, score=(train=-32491.870, test=-136611.216) total time=   0.3s\n",
      "[CV 2/4] END colsample_bytree=0.9, gamma=0.5, learning_rate=0.2, max_depth=7, min_child_weight=20, n_estimators=500, scale_pos_weight=5, subsample=0.9;, score=(train=-33429.163, test=-128169.318) total time=   0.3s\n",
      "[CV 1/4] END colsample_bytree=0.9, gamma=0, learning_rate=0.2, max_depth=30, min_child_weight=7, n_estimators=1000, scale_pos_weight=6, subsample=1.0;, score=(train=-1892.175, test=-136009.803) total time=   1.6s\n",
      "[CV 1/4] END colsample_bytree=0.8, gamma=0.5, learning_rate=0.01, max_depth=7, min_child_weight=15, n_estimators=100, scale_pos_weight=3, subsample=1.0;, score=(train=-160261.116, test=-153826.287) total time=   0.1s\n",
      "[CV 3/4] END colsample_bytree=0.9, gamma=0, learning_rate=0.2, max_depth=30, min_child_weight=7, n_estimators=1000, scale_pos_weight=6, subsample=1.0;, score=(train=-3231.991, test=-148922.641) total time=   1.5s\n",
      "[CV 2/4] END colsample_bytree=0.9, gamma=0, learning_rate=0.2, max_depth=30, min_child_weight=7, n_estimators=1000, scale_pos_weight=6, subsample=1.0;, score=(train=-1239.145, test=-124810.855) total time=   1.5s\n",
      "[CV 2/4] END colsample_bytree=0.8, gamma=0.5, learning_rate=0.01, max_depth=7, min_child_weight=15, n_estimators=100, scale_pos_weight=3, subsample=1.0;, score=(train=-156890.178, test=-149869.790) total time=   0.1s\n",
      "[CV 4/4] END colsample_bytree=0.9, gamma=0, learning_rate=0.2, max_depth=30, min_child_weight=7, n_estimators=1000, scale_pos_weight=6, subsample=1.0;, score=(train=-2389.239, test=-130574.965) total time=   1.5s\n",
      "[CV 3/4] END colsample_bytree=0.8, gamma=0.5, learning_rate=0.01, max_depth=7, min_child_weight=15, n_estimators=100, scale_pos_weight=3, subsample=1.0;, score=(train=-148062.786, test=-173289.841) total time=   0.1s\n",
      "[CV 4/4] END colsample_bytree=0.8, gamma=0.5, learning_rate=0.01, max_depth=7, min_child_weight=15, n_estimators=100, scale_pos_weight=3, subsample=1.0;, score=(train=-146584.012, test=-186207.523) total time=   0.1s\n",
      "[CV 1/4] END colsample_bytree=0.9, gamma=0, learning_rate=0.3, max_depth=30, min_child_weight=15, n_estimators=1000, scale_pos_weight=7, subsample=1.0;, score=(train=-11306.516, test=-135821.191) total time=   0.9s\n",
      "[CV 2/4] END colsample_bytree=0.9, gamma=0, learning_rate=0.3, max_depth=30, min_child_weight=15, n_estimators=1000, scale_pos_weight=7, subsample=1.0;, score=(train=-14390.264, test=-130843.377) total time=   0.9s\n",
      "[CV 4/4] END colsample_bytree=0.9, gamma=0, learning_rate=0.3, max_depth=30, min_child_weight=15, n_estimators=1000, scale_pos_weight=7, subsample=1.0;, score=(train=-15997.324, test=-147493.539) total time=   0.9s\n",
      "[CV 3/4] END colsample_bytree=0.9, gamma=0, learning_rate=0.3, max_depth=30, min_child_weight=15, n_estimators=1000, scale_pos_weight=7, subsample=1.0;, score=(train=-8609.412, test=-164560.050) total time=   0.9s\n",
      "[CV 1/4] END colsample_bytree=0.9, gamma=0.3, learning_rate=0.001, max_depth=3, min_child_weight=7, n_estimators=1000, scale_pos_weight=9, subsample=1.0;, score=(train=-168326.109, test=-162825.195) total time=   0.3s\n",
      "[CV 2/4] END colsample_bytree=0.9, gamma=0.3, learning_rate=0.001, max_depth=3, min_child_weight=7, n_estimators=1000, scale_pos_weight=9, subsample=1.0;, score=(train=-163592.282, test=-153416.564) total time=   0.3s\n",
      "[CV 4/4] END colsample_bytree=0.9, gamma=0.3, learning_rate=0.001, max_depth=3, min_child_weight=7, n_estimators=1000, scale_pos_weight=9, subsample=1.0;, score=(train=-155134.338, test=-191521.565) total time=   0.3s\n",
      "[CV 3/4] END colsample_bytree=0.9, gamma=0.3, learning_rate=0.001, max_depth=3, min_child_weight=7, n_estimators=1000, scale_pos_weight=9, subsample=1.0;, score=(train=-153220.268, test=-174666.875) total time=   0.3s\n",
      "[CV 1/4] END colsample_bytree=0.9, gamma=0.5, learning_rate=0.1, max_depth=15, min_child_weight=7, n_estimators=200, scale_pos_weight=1, subsample=0.9;, score=(train=-21529.361, test=-117950.754) total time=   0.3s\n",
      "[CV 2/4] END colsample_bytree=0.9, gamma=0.5, learning_rate=0.1, max_depth=15, min_child_weight=7, n_estimators=200, scale_pos_weight=1, subsample=0.9;, score=(train=-19597.625, test=-110816.266) total time=   0.3s\n",
      "[CV 3/4] END colsample_bytree=0.9, gamma=0.5, learning_rate=0.1, max_depth=15, min_child_weight=7, n_estimators=200, scale_pos_weight=1, subsample=0.9;, score=(train=-19445.784, test=-137440.481) total time=   0.3s\n",
      "[CV 4/4] END colsample_bytree=0.9, gamma=0.5, learning_rate=0.1, max_depth=15, min_child_weight=7, n_estimators=200, scale_pos_weight=1, subsample=0.9;, score=(train=-21032.951, test=-133530.367) total time=   0.3s\n",
      "[CV 1/4] END colsample_bytree=0.5, gamma=0.5, learning_rate=0.001, max_depth=25, min_child_weight=5, n_estimators=2000, scale_pos_weight=3, subsample=0.5;, score=(train=-123619.598, test=-131781.467) total time=   1.3s\n",
      "[CV 2/4] END colsample_bytree=0.5, gamma=0.5, learning_rate=0.001, max_depth=25, min_child_weight=5, n_estimators=2000, scale_pos_weight=3, subsample=0.5;, score=(train=-120193.446, test=-131106.575) total time=   1.3s\n",
      "[CV 4/4] END colsample_bytree=0.5, gamma=0.5, learning_rate=0.001, max_depth=25, min_child_weight=5, n_estimators=2000, scale_pos_weight=3, subsample=0.5;, score=(train=-114251.205, test=-163424.458) total time=   1.4s\n",
      "[CV 3/4] END colsample_bytree=0.5, gamma=0.5, learning_rate=0.001, max_depth=25, min_child_weight=5, n_estimators=2000, scale_pos_weight=3, subsample=0.5;, score=(train=-115024.015, test=-148557.964) total time=   1.4s\n",
      "[CV 1/4] END colsample_bytree=0.8, gamma=0.5, learning_rate=0.2, max_depth=30, min_child_weight=10, n_estimators=100, scale_pos_weight=9, subsample=0.8;, score=(train=-38235.104, test=-113144.781) total time=   0.1s\n",
      "[CV 2/4] END colsample_bytree=0.8, gamma=0.5, learning_rate=0.2, max_depth=30, min_child_weight=10, n_estimators=100, scale_pos_weight=9, subsample=0.8;, score=(train=-39730.395, test=-132105.561) total time=   0.1s\n",
      "[CV 3/4] END colsample_bytree=0.8, gamma=0.5, learning_rate=0.2, max_depth=30, min_child_weight=10, n_estimators=100, scale_pos_weight=9, subsample=0.8;, score=(train=-37207.854, test=-142182.289) total time=   0.1s\n",
      "[CV 4/4] END colsample_bytree=0.8, gamma=0.5, learning_rate=0.2, max_depth=30, min_child_weight=10, n_estimators=100, scale_pos_weight=9, subsample=0.8;, score=(train=-40790.263, test=-136049.548) total time=   0.1s\n",
      "[CV 1/4] END colsample_bytree=0.8, gamma=0.2, learning_rate=0.1, max_depth=5, min_child_weight=20, n_estimators=1000, scale_pos_weight=2, subsample=0.8;, score=(train=-40184.288, test=-121815.562) total time=   0.4s\n",
      "[CV 2/4] END colsample_bytree=0.8, gamma=0.2, learning_rate=0.1, max_depth=5, min_child_weight=20, n_estimators=1000, scale_pos_weight=2, subsample=0.8;, score=(train=-46039.997, test=-124507.786) total time=   0.3s\n",
      "[CV 3/4] END colsample_bytree=0.8, gamma=0.2, learning_rate=0.1, max_depth=5, min_child_weight=20, n_estimators=1000, scale_pos_weight=2, subsample=0.8;, score=(train=-39110.853, test=-152523.023) total time=   0.3s\n",
      "[CV 4/4] END colsample_bytree=0.8, gamma=0.2, learning_rate=0.1, max_depth=5, min_child_weight=20, n_estimators=1000, scale_pos_weight=2, subsample=0.8;, score=(train=-44292.989, test=-140285.876) total time=   0.3s\n",
      "[CV 2/4] END colsample_bytree=0.5, gamma=0.1, learning_rate=0.2, max_depth=15, min_child_weight=5, n_estimators=1000, scale_pos_weight=2, subsample=0.9;, score=(train=-1049.275, test=-128515.726) total time=   1.2s\n",
      "[CV 4/4] END colsample_bytree=0.5, gamma=0.1, learning_rate=0.2, max_depth=15, min_child_weight=5, n_estimators=1000, scale_pos_weight=2, subsample=0.9;, score=(train=-2402.810, test=-148258.468) total time=   1.2s\n",
      "[CV 1/4] END colsample_bytree=0.5, gamma=0.1, learning_rate=0.2, max_depth=15, min_child_weight=5, n_estimators=1000, scale_pos_weight=2, subsample=0.9;, score=(train=-407.674, test=-122746.783) total time=   1.3s\n",
      "[CV 3/4] END colsample_bytree=0.5, gamma=0.1, learning_rate=0.2, max_depth=15, min_child_weight=5, n_estimators=1000, scale_pos_weight=2, subsample=0.9;, score=(train=-2841.061, test=-156730.015) total time=   1.2s\n",
      "[CV 2/4] END colsample_bytree=0.9, gamma=0.3, learning_rate=0.001, max_depth=5, min_child_weight=15, n_estimators=2000, scale_pos_weight=8, subsample=0.8;, score=(train=-124248.918, test=-123193.781) total time=   0.8s\n",
      "[CV 1/4] END colsample_bytree=0.9, gamma=0.3, learning_rate=0.001, max_depth=5, min_child_weight=15, n_estimators=2000, scale_pos_weight=8, subsample=0.8;, score=(train=-124151.852, test=-122769.040) total time=   0.8s\n",
      "[CV 3/4] END colsample_bytree=0.9, gamma=0.3, learning_rate=0.001, max_depth=5, min_child_weight=15, n_estimators=2000, scale_pos_weight=8, subsample=0.8;, score=(train=-119264.372, test=-142940.852) total time=   0.8s\n",
      "[CV 4/4] END colsample_bytree=0.9, gamma=0.3, learning_rate=0.001, max_depth=5, min_child_weight=15, n_estimators=2000, scale_pos_weight=8, subsample=0.8;, score=(train=-115510.941, test=-157262.409) total time=   0.8s\n",
      "[CV 1/4] END colsample_bytree=0.5, gamma=0.3, learning_rate=0.01, max_depth=30, min_child_weight=1, n_estimators=300, scale_pos_weight=1, subsample=0.8;, score=(train=-55379.667, test=-132767.880) total time=   0.7s\n",
      "[CV 2/4] END colsample_bytree=0.5, gamma=0.3, learning_rate=0.01, max_depth=30, min_child_weight=1, n_estimators=300, scale_pos_weight=1, subsample=0.8;, score=(train=-54563.045, test=-124358.744) total time=   0.7s\n",
      "[CV 4/4] END colsample_bytree=0.5, gamma=0.3, learning_rate=0.01, max_depth=30, min_child_weight=1, n_estimators=300, scale_pos_weight=1, subsample=0.8;, score=(train=-51065.673, test=-155515.772) total time=   0.7s\n",
      "[CV 3/4] END colsample_bytree=0.5, gamma=0.3, learning_rate=0.01, max_depth=30, min_child_weight=1, n_estimators=300, scale_pos_weight=1, subsample=0.8;, score=(train=-52417.867, test=-151063.808) total time=   0.7s\n",
      "[CV 1/4] END colsample_bytree=0.5, gamma=0.5, learning_rate=0.1, max_depth=3, min_child_weight=1, n_estimators=1000, scale_pos_weight=1, subsample=0.5;, score=(train=-25316.142, test=-117158.797) total time=   0.3s\n",
      "[CV 2/4] END colsample_bytree=0.5, gamma=0.5, learning_rate=0.1, max_depth=3, min_child_weight=1, n_estimators=1000, scale_pos_weight=1, subsample=0.5;, score=(train=-25771.729, test=-121407.654) total time=   0.3s\n",
      "[CV 3/4] END colsample_bytree=0.5, gamma=0.5, learning_rate=0.1, max_depth=3, min_child_weight=1, n_estimators=1000, scale_pos_weight=1, subsample=0.5;, score=(train=-29410.313, test=-155338.765) total time=   0.3s\n",
      "[CV 4/4] END colsample_bytree=0.5, gamma=0.5, learning_rate=0.1, max_depth=3, min_child_weight=1, n_estimators=1000, scale_pos_weight=1, subsample=0.5;, score=(train=-27310.763, test=-140563.152) total time=   0.3s\n",
      "[CV 1/4] END colsample_bytree=1.0, gamma=0.1, learning_rate=0.001, max_depth=5, min_child_weight=3, n_estimators=100, scale_pos_weight=6, subsample=0.8;, score=(train=-275751.737, test=-241022.187) total time=   0.1s\n",
      "[CV 2/4] END colsample_bytree=1.0, gamma=0.1, learning_rate=0.001, max_depth=5, min_child_weight=3, n_estimators=100, scale_pos_weight=6, subsample=0.8;, score=(train=-267726.841, test=-245842.226) total time=   0.1s\n",
      "[CV 3/4] END colsample_bytree=1.0, gamma=0.1, learning_rate=0.001, max_depth=5, min_child_weight=3, n_estimators=100, scale_pos_weight=6, subsample=0.8;, score=(train=-243305.678, test=-287487.424) total time=   0.1s\n",
      "[CV 4/4] END colsample_bytree=1.0, gamma=0.1, learning_rate=0.001, max_depth=5, min_child_weight=3, n_estimators=100, scale_pos_weight=6, subsample=0.8;, score=(train=-253659.787, test=-272981.587) total time=   0.1s\n",
      "[CV 1/4] END colsample_bytree=0.5, gamma=0.3, learning_rate=0.01, max_depth=7, min_child_weight=10, n_estimators=500, scale_pos_weight=9, subsample=1.0;, score=(train=-90191.415, test=-119098.245) total time=   0.3s\n",
      "[CV 2/4] END colsample_bytree=0.5, gamma=0.3, learning_rate=0.01, max_depth=7, min_child_weight=10, n_estimators=500, scale_pos_weight=9, subsample=1.0;, score=(train=-89871.680, test=-118163.429) total time=   0.3s\n",
      "[CV 4/4] END colsample_bytree=0.5, gamma=0.3, learning_rate=0.01, max_depth=7, min_child_weight=10, n_estimators=500, scale_pos_weight=9, subsample=1.0;, score=(train=-83800.113, test=-141564.593) total time=   0.3s\n",
      "[CV 3/4] END colsample_bytree=0.5, gamma=0.3, learning_rate=0.01, max_depth=7, min_child_weight=10, n_estimators=500, scale_pos_weight=9, subsample=1.0;, score=(train=-83197.722, test=-137312.264) total time=   0.3s\n",
      "[CV 1/4] END colsample_bytree=0.5, gamma=0.3, learning_rate=0.001, max_depth=30, min_child_weight=7, n_estimators=1000, scale_pos_weight=8, subsample=0.8;, score=(train=-167784.377, test=-160764.135) total time=   0.7s\n",
      "[CV 1/4] END colsample_bytree=1.0, gamma=0.5, learning_rate=0.2, max_depth=25, min_child_weight=15, n_estimators=2000, scale_pos_weight=2, subsample=0.8;, score=(train=-14969.068, test=-126318.203) total time=   1.5s\n",
      "[CV 2/4] END colsample_bytree=0.5, gamma=0.3, learning_rate=0.001, max_depth=30, min_child_weight=7, n_estimators=1000, scale_pos_weight=8, subsample=0.8;, score=(train=-163343.470, test=-161516.775) total time=   0.7s\n",
      "[CV 4/4] END colsample_bytree=0.5, gamma=0.3, learning_rate=0.001, max_depth=30, min_child_weight=7, n_estimators=1000, scale_pos_weight=8, subsample=0.8;, score=(train=-153170.308, test=-193050.247) total time=   0.7s\n",
      "[CV 2/4] END colsample_bytree=1.0, gamma=0.5, learning_rate=0.2, max_depth=25, min_child_weight=15, n_estimators=2000, scale_pos_weight=2, subsample=0.8;, score=(train=-15492.728, test=-129734.598) total time=   1.5s\n",
      "[CV 3/4] END colsample_bytree=0.5, gamma=0.3, learning_rate=0.001, max_depth=30, min_child_weight=7, n_estimators=1000, scale_pos_weight=8, subsample=0.8;, score=(train=-151362.629, test=-187080.395) total time=   0.7s\n",
      "[CV 3/4] END colsample_bytree=1.0, gamma=0.5, learning_rate=0.2, max_depth=25, min_child_weight=15, n_estimators=2000, scale_pos_weight=2, subsample=0.8;, score=(train=-10021.146, test=-172884.622) total time=   1.5s\n",
      "[CV 4/4] END colsample_bytree=1.0, gamma=0.5, learning_rate=0.2, max_depth=25, min_child_weight=15, n_estimators=2000, scale_pos_weight=2, subsample=0.8;, score=(train=-18928.243, test=-151543.652) total time=   1.7s\n",
      "[CV 1/4] END colsample_bytree=0.8, gamma=0.5, learning_rate=0.001, max_depth=9, min_child_weight=3, n_estimators=500, scale_pos_weight=2, subsample=0.8;, score=(train=-202713.704, test=-188850.259) total time=   0.5s\n",
      "[CV 1/4] END colsample_bytree=1.0, gamma=0, learning_rate=0.01, max_depth=30, min_child_weight=10, n_estimators=100, scale_pos_weight=9, subsample=0.9;, score=(train=-150864.788, test=-149822.014) total time=   0.1s\n",
      "[CV 2/4] END colsample_bytree=0.8, gamma=0.5, learning_rate=0.001, max_depth=9, min_child_weight=3, n_estimators=500, scale_pos_weight=2, subsample=0.8;, score=(train=-197903.477, test=-189963.086) total time=   0.6s\n",
      "[CV 4/4] END colsample_bytree=0.8, gamma=0.5, learning_rate=0.001, max_depth=9, min_child_weight=3, n_estimators=500, scale_pos_weight=2, subsample=0.8;, score=(train=-187424.097, test=-218924.641) total time=   0.6s\n",
      "[CV 3/4] END colsample_bytree=0.8, gamma=0.5, learning_rate=0.001, max_depth=9, min_child_weight=3, n_estimators=500, scale_pos_weight=2, subsample=0.8;, score=(train=-181103.592, test=-222313.571) total time=   0.6s\n",
      "[CV 2/4] END colsample_bytree=1.0, gamma=0, learning_rate=0.01, max_depth=30, min_child_weight=10, n_estimators=100, scale_pos_weight=9, subsample=0.9;, score=(train=-144205.081, test=-142461.024) total time=   0.1s\n",
      "[CV 3/4] END colsample_bytree=1.0, gamma=0, learning_rate=0.01, max_depth=30, min_child_weight=10, n_estimators=100, scale_pos_weight=9, subsample=0.9;, score=(train=-136430.906, test=-158508.130) total time=   0.1s\n",
      "[CV 1/4] END colsample_bytree=0.8, gamma=0.2, learning_rate=0.3, max_depth=9, min_child_weight=10, n_estimators=50, scale_pos_weight=2, subsample=1.0;, score=(train=-49194.089, test=-120590.226) total time=   0.1s\n",
      "[CV 2/4] END colsample_bytree=0.8, gamma=0.2, learning_rate=0.3, max_depth=9, min_child_weight=10, n_estimators=50, scale_pos_weight=2, subsample=1.0;, score=(train=-48695.548, test=-125413.699) total time=   0.0s\n",
      "[CV 3/4] END colsample_bytree=0.8, gamma=0.2, learning_rate=0.3, max_depth=9, min_child_weight=10, n_estimators=50, scale_pos_weight=2, subsample=1.0;, score=(train=-44102.523, test=-148028.288) total time=   0.1s\n",
      "[CV 4/4] END colsample_bytree=1.0, gamma=0, learning_rate=0.01, max_depth=30, min_child_weight=10, n_estimators=100, scale_pos_weight=9, subsample=0.9;, score=(train=-137233.835, test=-178490.134) total time=   0.1s\n",
      "[CV 4/4] END colsample_bytree=0.8, gamma=0.2, learning_rate=0.3, max_depth=9, min_child_weight=10, n_estimators=50, scale_pos_weight=2, subsample=1.0;, score=(train=-53318.202, test=-141362.772) total time=   0.0s\n",
      "[CV 1/4] END colsample_bytree=0.8, gamma=0.5, learning_rate=0.001, max_depth=25, min_child_weight=1, n_estimators=1000, scale_pos_weight=7, subsample=0.8;, score=(train=-136525.033, test=-164779.050) total time=   2.3s\n",
      "[CV 2/4] END colsample_bytree=0.8, gamma=0.5, learning_rate=0.001, max_depth=25, min_child_weight=1, n_estimators=1000, scale_pos_weight=7, subsample=0.8;, score=(train=-133547.227, test=-156375.674) total time=   2.4s\n",
      "[CV 1/4] END colsample_bytree=0.9, gamma=0.2, learning_rate=0.2, max_depth=7, min_child_weight=5, n_estimators=200, scale_pos_weight=3, subsample=0.9;, score=(train=-11899.685, test=-123765.440) total time=   0.1s\n",
      "[CV 4/4] END colsample_bytree=0.8, gamma=0.5, learning_rate=0.001, max_depth=25, min_child_weight=1, n_estimators=1000, scale_pos_weight=7, subsample=0.8;, score=(train=-125970.979, test=-191563.835) total time=   2.4s\n",
      "[CV 2/4] END colsample_bytree=0.9, gamma=0.2, learning_rate=0.2, max_depth=7, min_child_weight=5, n_estimators=200, scale_pos_weight=3, subsample=0.9;, score=(train=-15983.782, test=-115824.006) total time=   0.1s\n",
      "[CV 3/4] END colsample_bytree=0.9, gamma=0.2, learning_rate=0.2, max_depth=7, min_child_weight=5, n_estimators=200, scale_pos_weight=3, subsample=0.9;, score=(train=-13088.903, test=-140396.647) total time=   0.1s\n",
      "[CV 4/4] END colsample_bytree=0.9, gamma=0.2, learning_rate=0.2, max_depth=7, min_child_weight=5, n_estimators=200, scale_pos_weight=3, subsample=0.9;, score=(train=-13601.222, test=-138262.806) total time=   0.2s\n",
      "[CV 3/4] END colsample_bytree=0.8, gamma=0.5, learning_rate=0.001, max_depth=25, min_child_weight=1, n_estimators=1000, scale_pos_weight=7, subsample=0.8;, score=(train=-123151.122, test=-191084.031) total time=   2.7s\n",
      "[CV 1/4] END colsample_bytree=1.0, gamma=0.1, learning_rate=0.01, max_depth=15, min_child_weight=1, n_estimators=100, scale_pos_weight=4, subsample=0.8;, score=(train=-132952.895, test=-165793.489) total time=   0.3s\n",
      "[CV 1/4] END colsample_bytree=0.8, gamma=0.5, learning_rate=0.01, max_depth=30, min_child_weight=15, n_estimators=50, scale_pos_weight=7, subsample=1.0;, score=(train=-208186.742, test=-191163.232) total time=   0.0s\n",
      "[CV 2/4] END colsample_bytree=1.0, gamma=0.1, learning_rate=0.01, max_depth=15, min_child_weight=1, n_estimators=100, scale_pos_weight=4, subsample=0.8;, score=(train=-129625.371, test=-154697.247) total time=   0.3s\n",
      "[CV 2/4] END colsample_bytree=0.8, gamma=0.5, learning_rate=0.01, max_depth=30, min_child_weight=15, n_estimators=50, scale_pos_weight=7, subsample=1.0;, score=(train=-203497.887, test=-190086.394) total time=   0.0s\n",
      "[CV 3/4] END colsample_bytree=0.8, gamma=0.5, learning_rate=0.01, max_depth=30, min_child_weight=15, n_estimators=50, scale_pos_weight=7, subsample=1.0;, score=(train=-187839.243, test=-219707.814) total time=   0.0s\n",
      "[CV 4/4] END colsample_bytree=0.8, gamma=0.5, learning_rate=0.01, max_depth=30, min_child_weight=15, n_estimators=50, scale_pos_weight=7, subsample=1.0;, score=(train=-191408.874, test=-216760.686) total time=   0.0s\n",
      "[CV 3/4] END colsample_bytree=1.0, gamma=0.1, learning_rate=0.01, max_depth=15, min_child_weight=1, n_estimators=100, scale_pos_weight=4, subsample=0.8;, score=(train=-119793.391, test=-187274.844) total time=   0.3s\n",
      "[CV 1/4] END colsample_bytree=1.0, gamma=0.1, learning_rate=0.3, max_depth=25, min_child_weight=5, n_estimators=2000, scale_pos_weight=7, subsample=0.8;, score=(train=-275.049, test=-131886.283) total time=   3.7s\n",
      "[CV 4/4] END colsample_bytree=1.0, gamma=0.1, learning_rate=0.01, max_depth=15, min_child_weight=1, n_estimators=100, scale_pos_weight=4, subsample=0.8;, score=(train=-122199.591, test=-191679.623) total time=   0.3s\n",
      "[CV 1/4] END colsample_bytree=0.5, gamma=0, learning_rate=0.01, max_depth=30, min_child_weight=3, n_estimators=100, scale_pos_weight=7, subsample=1.0;, score=(train=-152876.428, test=-159441.105) total time=   0.1s\n",
      "[CV 3/4] END colsample_bytree=1.0, gamma=0.1, learning_rate=0.3, max_depth=25, min_child_weight=5, n_estimators=2000, scale_pos_weight=7, subsample=0.8;, score=(train=-2563.043, test=-162190.194) total time=   3.7s\n",
      "[CV 2/4] END colsample_bytree=0.5, gamma=0, learning_rate=0.01, max_depth=30, min_child_weight=3, n_estimators=100, scale_pos_weight=7, subsample=1.0;, score=(train=-149529.989, test=-157533.245) total time=   0.1s\n",
      "[CV 3/4] END colsample_bytree=0.5, gamma=0, learning_rate=0.01, max_depth=30, min_child_weight=3, n_estimators=100, scale_pos_weight=7, subsample=1.0;, score=(train=-137067.107, test=-188046.901) total time=   0.1s\n",
      "[CV 4/4] END colsample_bytree=0.5, gamma=0, learning_rate=0.01, max_depth=30, min_child_weight=3, n_estimators=100, scale_pos_weight=7, subsample=1.0;, score=(train=-140953.340, test=-192239.318) total time=   0.1s\n",
      "[CV 1/4] END colsample_bytree=0.8, gamma=0.5, learning_rate=0.3, max_depth=5, min_child_weight=3, n_estimators=50, scale_pos_weight=5, subsample=0.9;, score=(train=-40865.941, test=-117403.486) total time=   0.0s\n",
      "[CV 2/4] END colsample_bytree=0.8, gamma=0.5, learning_rate=0.3, max_depth=5, min_child_weight=3, n_estimators=50, scale_pos_weight=5, subsample=0.9;, score=(train=-40769.664, test=-111010.105) total time=   0.0s\n",
      "[CV 3/4] END colsample_bytree=0.8, gamma=0.5, learning_rate=0.3, max_depth=5, min_child_weight=3, n_estimators=50, scale_pos_weight=5, subsample=0.9;, score=(train=-40787.401, test=-140266.838) total time=   0.0s\n",
      "[CV 2/4] END colsample_bytree=1.0, gamma=0.1, learning_rate=0.3, max_depth=25, min_child_weight=5, n_estimators=2000, scale_pos_weight=7, subsample=0.8;, score=(train=-945.763, test=-128598.934) total time=   3.9s\n",
      "[CV 4/4] END colsample_bytree=0.8, gamma=0.5, learning_rate=0.3, max_depth=5, min_child_weight=3, n_estimators=50, scale_pos_weight=5, subsample=0.9;, score=(train=-38629.788, test=-144452.800) total time=   0.0s\n",
      "[CV 1/4] END colsample_bytree=0.8, gamma=0.3, learning_rate=0.2, max_depth=5, min_child_weight=7, n_estimators=200, scale_pos_weight=1, subsample=0.5;, score=(train=-49887.601, test=-118488.879) total time=   0.1s\n",
      "[CV 2/4] END colsample_bytree=0.8, gamma=0.3, learning_rate=0.2, max_depth=5, min_child_weight=7, n_estimators=200, scale_pos_weight=1, subsample=0.5;, score=(train=-50420.712, test=-148469.030) total time=   0.1s\n",
      "[CV 3/4] END colsample_bytree=0.8, gamma=0.3, learning_rate=0.2, max_depth=5, min_child_weight=7, n_estimators=200, scale_pos_weight=1, subsample=0.5;, score=(train=-46209.938, test=-155283.223) total time=   0.1s\n",
      "[CV 4/4] END colsample_bytree=0.8, gamma=0.3, learning_rate=0.2, max_depth=5, min_child_weight=7, n_estimators=200, scale_pos_weight=1, subsample=0.5;, score=(train=-52482.301, test=-138681.860) total time=   0.1s\n",
      "[CV 1/4] END colsample_bytree=1.0, gamma=0.2, learning_rate=0.01, max_depth=30, min_child_weight=3, n_estimators=300, scale_pos_weight=2, subsample=0.5;, score=(train=-69576.122, test=-113331.492) total time=   0.4s\n",
      "[CV 2/4] END colsample_bytree=1.0, gamma=0.2, learning_rate=0.01, max_depth=30, min_child_weight=3, n_estimators=300, scale_pos_weight=2, subsample=0.5;, score=(train=-68251.991, test=-107229.796) total time=   0.4s\n",
      "[CV 3/4] END colsample_bytree=1.0, gamma=0.2, learning_rate=0.01, max_depth=30, min_child_weight=3, n_estimators=300, scale_pos_weight=2, subsample=0.5;, score=(train=-65495.436, test=-120726.026) total time=   0.4s\n",
      "[CV 4/4] END colsample_bytree=1.0, gamma=0.2, learning_rate=0.01, max_depth=30, min_child_weight=3, n_estimators=300, scale_pos_weight=2, subsample=0.5;, score=(train=-64422.306, test=-144291.261) total time=   0.4s\n",
      "[CV 4/4] END colsample_bytree=1.0, gamma=0.1, learning_rate=0.3, max_depth=25, min_child_weight=5, n_estimators=2000, scale_pos_weight=7, subsample=0.8;, score=(train=-2165.205, test=-153063.757) total time=   4.0s\n",
      "[CV 1/4] END colsample_bytree=0.8, gamma=0.2, learning_rate=0.001, max_depth=3, min_child_weight=1, n_estimators=300, scale_pos_weight=7, subsample=1.0;, score=(train=-242833.994, test=-213717.005) total time=   0.1s\n",
      "[CV 2/4] END colsample_bytree=0.8, gamma=0.2, learning_rate=0.001, max_depth=3, min_child_weight=1, n_estimators=300, scale_pos_weight=7, subsample=1.0;, score=(train=-235985.234, test=-218662.648) total time=   0.1s\n",
      "[CV 3/4] END colsample_bytree=0.8, gamma=0.2, learning_rate=0.001, max_depth=3, min_child_weight=1, n_estimators=300, scale_pos_weight=7, subsample=1.0;, score=(train=-215297.204, test=-253353.064) total time=   0.1s\n",
      "[CV 4/4] END colsample_bytree=0.8, gamma=0.2, learning_rate=0.001, max_depth=3, min_child_weight=1, n_estimators=300, scale_pos_weight=7, subsample=1.0;, score=(train=-223726.250, test=-245509.428) total time=   0.1s\n",
      "[CV 2/4] END colsample_bytree=0.9, gamma=0.2, learning_rate=0.001, max_depth=3, min_child_weight=10, n_estimators=2000, scale_pos_weight=9, subsample=1.0;, score=(train=-127277.872, test=-124089.224) total time=   0.4s\n",
      "[CV 1/4] END colsample_bytree=0.9, gamma=0.2, learning_rate=0.001, max_depth=3, min_child_weight=10, n_estimators=2000, scale_pos_weight=9, subsample=1.0;, score=(train=-130358.111, test=-134188.719) total time=   0.5s\n",
      "[CV 4/4] END colsample_bytree=0.9, gamma=0.2, learning_rate=0.001, max_depth=3, min_child_weight=10, n_estimators=2000, scale_pos_weight=9, subsample=1.0;, score=(train=-119956.272, test=-164382.713) total time=   0.5s\n",
      "[CV 3/4] END colsample_bytree=0.9, gamma=0.2, learning_rate=0.001, max_depth=3, min_child_weight=10, n_estimators=2000, scale_pos_weight=9, subsample=1.0;, score=(train=-122995.964, test=-143697.889) total time=   0.5s\n",
      "[CV 1/4] END colsample_bytree=0.8, gamma=0.3, learning_rate=0.01, max_depth=25, min_child_weight=15, n_estimators=2000, scale_pos_weight=7, subsample=0.5;, score=(train=-75496.030, test=-114045.760) total time=   0.8s\n",
      "[CV 2/4] END colsample_bytree=0.8, gamma=0.3, learning_rate=0.01, max_depth=25, min_child_weight=15, n_estimators=2000, scale_pos_weight=7, subsample=0.5;, score=(train=-77747.581, test=-120047.520) total time=   0.9s\n",
      "[CV 1/4] END colsample_bytree=0.9, gamma=0.5, learning_rate=0.3, max_depth=30, min_child_weight=20, n_estimators=2000, scale_pos_weight=3, subsample=1.0;, score=(train=-14793.586, test=-132407.335) total time=   1.2s\n",
      "[CV 2/4] END colsample_bytree=0.9, gamma=0.5, learning_rate=0.3, max_depth=30, min_child_weight=20, n_estimators=2000, scale_pos_weight=3, subsample=1.0;, score=(train=-18590.751, test=-132666.973) total time=   1.2s\n",
      "[CV 3/4] END colsample_bytree=0.8, gamma=0.3, learning_rate=0.01, max_depth=25, min_child_weight=15, n_estimators=2000, scale_pos_weight=7, subsample=0.5;, score=(train=-72071.590, test=-133274.184) total time=   0.9s\n",
      "[CV 4/4] END colsample_bytree=0.8, gamma=0.3, learning_rate=0.01, max_depth=25, min_child_weight=15, n_estimators=2000, scale_pos_weight=7, subsample=0.5;, score=(train=-74140.861, test=-133556.255) total time=   0.9s\n",
      "[CV 3/4] END colsample_bytree=0.9, gamma=0.5, learning_rate=0.3, max_depth=30, min_child_weight=20, n_estimators=2000, scale_pos_weight=3, subsample=1.0;, score=(train=-14339.571, test=-157273.514) total time=   1.2s\n",
      "[CV 1/4] END colsample_bytree=0.5, gamma=0, learning_rate=0.2, max_depth=30, min_child_weight=15, n_estimators=200, scale_pos_weight=7, subsample=0.5;, score=(train=-73953.960, test=-135369.962) total time=   0.1s\n",
      "[CV 3/4] END colsample_bytree=0.5, gamma=0, learning_rate=0.2, max_depth=30, min_child_weight=15, n_estimators=200, scale_pos_weight=7, subsample=0.5;, score=(train=-69263.543, test=-143478.882) total time=   0.1s\n",
      "[CV 2/4] END colsample_bytree=0.5, gamma=0, learning_rate=0.2, max_depth=30, min_child_weight=15, n_estimators=200, scale_pos_weight=7, subsample=0.5;, score=(train=-73032.313, test=-138253.684) total time=   0.1s\n",
      "[CV 1/4] END colsample_bytree=0.5, gamma=0.5, learning_rate=0.3, max_depth=9, min_child_weight=15, n_estimators=50, scale_pos_weight=4, subsample=0.9;, score=(train=-71474.121, test=-119402.752) total time=   0.0s\n",
      "[CV 2/4] END colsample_bytree=0.5, gamma=0.5, learning_rate=0.3, max_depth=9, min_child_weight=15, n_estimators=50, scale_pos_weight=4, subsample=0.9;, score=(train=-74995.689, test=-124579.505) total time=   0.0s\n",
      "[CV 4/4] END colsample_bytree=0.9, gamma=0.5, learning_rate=0.3, max_depth=30, min_child_weight=20, n_estimators=2000, scale_pos_weight=3, subsample=1.0;, score=(train=-16071.957, test=-136721.039) total time=   1.3s\n",
      "[CV 3/4] END colsample_bytree=0.5, gamma=0.5, learning_rate=0.3, max_depth=9, min_child_weight=15, n_estimators=50, scale_pos_weight=4, subsample=0.9;, score=(train=-71773.904, test=-144690.455) total time=   0.0s\n",
      "[CV 4/4] END colsample_bytree=0.5, gamma=0, learning_rate=0.2, max_depth=30, min_child_weight=15, n_estimators=200, scale_pos_weight=7, subsample=0.5;, score=(train=-71892.904, test=-149879.558) total time=   0.1s\n",
      "[CV 4/4] END colsample_bytree=0.5, gamma=0.5, learning_rate=0.3, max_depth=9, min_child_weight=15, n_estimators=50, scale_pos_weight=4, subsample=0.9;, score=(train=-71266.678, test=-131842.241) total time=   0.0s\n",
      "[CV 1/4] END colsample_bytree=1.0, gamma=0, learning_rate=0.3, max_depth=5, min_child_weight=15, n_estimators=2000, scale_pos_weight=1, subsample=0.5;, score=(train=-25361.605, test=-139165.618) total time=   0.6s\n",
      "[CV 1/4] END colsample_bytree=0.5, gamma=0.5, learning_rate=0.01, max_depth=9, min_child_weight=1, n_estimators=300, scale_pos_weight=2, subsample=0.5;, score=(train=-79492.234, test=-131928.882) total time=   0.3s\n",
      "[CV 2/4] END colsample_bytree=0.5, gamma=0.5, learning_rate=0.01, max_depth=9, min_child_weight=1, n_estimators=300, scale_pos_weight=2, subsample=0.5;, score=(train=-78455.327, test=-126993.282) total time=   0.3s\n",
      "[CV 4/4] END colsample_bytree=0.5, gamma=0.5, learning_rate=0.01, max_depth=9, min_child_weight=1, n_estimators=300, scale_pos_weight=2, subsample=0.5;, score=(train=-73433.408, test=-159862.448) total time=   0.3s\n",
      "[CV 3/4] END colsample_bytree=0.5, gamma=0.5, learning_rate=0.01, max_depth=9, min_child_weight=1, n_estimators=300, scale_pos_weight=2, subsample=0.5;, score=(train=-75650.543, test=-147537.070) total time=   0.3s\n",
      "[CV 2/4] END colsample_bytree=1.0, gamma=0, learning_rate=0.3, max_depth=5, min_child_weight=15, n_estimators=2000, scale_pos_weight=1, subsample=0.5;, score=(train=-29612.908, test=-141757.440) total time=   0.7s\n",
      "[CV 3/4] END colsample_bytree=1.0, gamma=0, learning_rate=0.3, max_depth=5, min_child_weight=15, n_estimators=2000, scale_pos_weight=1, subsample=0.5;, score=(train=-23003.481, test=-179355.271) total time=   0.6s\n",
      "[CV 4/4] END colsample_bytree=1.0, gamma=0, learning_rate=0.3, max_depth=5, min_child_weight=15, n_estimators=2000, scale_pos_weight=1, subsample=0.5;, score=(train=-29612.616, test=-162115.315) total time=   0.6s\n",
      "[CV 2/4] END colsample_bytree=0.5, gamma=0.2, learning_rate=0.001, max_depth=25, min_child_weight=15, n_estimators=1000, scale_pos_weight=7, subsample=1.0;, score=(train=-170451.848, test=-164813.760) total time=   0.5s\n",
      "[CV 4/4] END colsample_bytree=0.5, gamma=0.2, learning_rate=0.001, max_depth=25, min_child_weight=15, n_estimators=1000, scale_pos_weight=7, subsample=1.0;, score=(train=-159112.446, test=-193108.610) total time=   0.4s\n",
      "[CV 1/4] END colsample_bytree=0.5, gamma=0.2, learning_rate=0.001, max_depth=25, min_child_weight=15, n_estimators=1000, scale_pos_weight=7, subsample=1.0;, score=(train=-173602.225, test=-162035.304) total time=   0.5s\n",
      "[CV 3/4] END colsample_bytree=0.5, gamma=0.2, learning_rate=0.001, max_depth=25, min_child_weight=15, n_estimators=1000, scale_pos_weight=7, subsample=1.0;, score=(train=-158774.892, test=-191341.919) total time=   0.5s\n",
      "[CV 1/4] END colsample_bytree=0.9, gamma=0, learning_rate=0.1, max_depth=9, min_child_weight=15, n_estimators=50, scale_pos_weight=4, subsample=1.0;, score=(train=-87593.324, test=-111418.700) total time=   0.0s\n",
      "[CV 2/4] END colsample_bytree=0.9, gamma=0, learning_rate=0.1, max_depth=9, min_child_weight=15, n_estimators=50, scale_pos_weight=4, subsample=1.0;, score=(train=-89153.310, test=-117450.830) total time=   0.0s\n",
      "[CV 3/4] END colsample_bytree=0.9, gamma=0, learning_rate=0.1, max_depth=9, min_child_weight=15, n_estimators=50, scale_pos_weight=4, subsample=1.0;, score=(train=-84030.650, test=-135173.675) total time=   0.0s\n",
      "[CV 4/4] END colsample_bytree=0.9, gamma=0, learning_rate=0.1, max_depth=9, min_child_weight=15, n_estimators=50, scale_pos_weight=4, subsample=1.0;, score=(train=-82734.873, test=-136072.922) total time=   0.1s\n",
      "[CV 1/4] END colsample_bytree=1.0, gamma=0.3, learning_rate=0.3, max_depth=15, min_child_weight=7, n_estimators=1000, scale_pos_weight=6, subsample=1.0;, score=(train=-1754.372, test=-133213.139) total time=   1.1s\n",
      "[CV 1/4] END colsample_bytree=0.5, gamma=0.2, learning_rate=0.01, max_depth=3, min_child_weight=3, n_estimators=2000, scale_pos_weight=9, subsample=0.9;, score=(train=-69173.678, test=-121347.685) total time=   0.4s\n",
      "[CV 2/4] END colsample_bytree=0.5, gamma=0.2, learning_rate=0.01, max_depth=3, min_child_weight=3, n_estimators=2000, scale_pos_weight=9, subsample=0.9;, score=(train=-68330.012, test=-110252.049) total time=   0.4s\n",
      "[CV 3/4] END colsample_bytree=0.5, gamma=0.2, learning_rate=0.01, max_depth=3, min_child_weight=3, n_estimators=2000, scale_pos_weight=9, subsample=0.9;, score=(train=-67661.002, test=-137551.532) total time=   0.5s\n",
      "[CV 4/4] END colsample_bytree=0.5, gamma=0.2, learning_rate=0.01, max_depth=3, min_child_weight=3, n_estimators=2000, scale_pos_weight=9, subsample=0.9;, score=(train=-66791.852, test=-134221.583) total time=   0.5s\n",
      "[CV 4/4] END colsample_bytree=1.0, gamma=0.3, learning_rate=0.3, max_depth=15, min_child_weight=7, n_estimators=1000, scale_pos_weight=6, subsample=1.0;, score=(train=-1891.497, test=-138496.761) total time=   1.1s\n",
      "[CV 2/4] END colsample_bytree=1.0, gamma=0.3, learning_rate=0.3, max_depth=15, min_child_weight=7, n_estimators=1000, scale_pos_weight=6, subsample=1.0;, score=(train=-834.169, test=-129925.088) total time=   1.1s\n",
      "[CV 3/4] END colsample_bytree=1.0, gamma=0.3, learning_rate=0.3, max_depth=15, min_child_weight=7, n_estimators=1000, scale_pos_weight=6, subsample=1.0;, score=(train=-2854.885, test=-154003.932) total time=   1.1s\n",
      "[CV 1/4] END colsample_bytree=0.5, gamma=0, learning_rate=0.01, max_depth=3, min_child_weight=20, n_estimators=300, scale_pos_weight=5, subsample=0.9;, score=(train=-137032.323, test=-138508.374) total time=   0.1s\n",
      "[CV 2/4] END colsample_bytree=0.5, gamma=0, learning_rate=0.01, max_depth=3, min_child_weight=20, n_estimators=300, scale_pos_weight=5, subsample=0.9;, score=(train=-137466.741, test=-130521.795) total time=   0.1s\n",
      "[CV 3/4] END colsample_bytree=0.5, gamma=0, learning_rate=0.01, max_depth=3, min_child_weight=20, n_estimators=300, scale_pos_weight=5, subsample=0.9;, score=(train=-126686.633, test=-152695.610) total time=   0.1s\n",
      "[CV 4/4] END colsample_bytree=0.5, gamma=0, learning_rate=0.01, max_depth=3, min_child_weight=20, n_estimators=300, scale_pos_weight=5, subsample=0.9;, score=(train=-127509.526, test=-162063.792) total time=   0.1s\n",
      "[CV 2/4] END colsample_bytree=0.8, gamma=0.2, learning_rate=0.2, max_depth=30, min_child_weight=7, n_estimators=1000, scale_pos_weight=3, subsample=0.9;, score=(train=-1228.846, test=-142266.542) total time=   1.1s\n",
      "[CV 3/4] END colsample_bytree=0.8, gamma=0.2, learning_rate=0.2, max_depth=30, min_child_weight=7, n_estimators=1000, scale_pos_weight=3, subsample=0.9;, score=(train=-3614.146, test=-155637.053) total time=   1.1s\n",
      "[CV 1/4] END colsample_bytree=0.8, gamma=0.2, learning_rate=0.2, max_depth=30, min_child_weight=7, n_estimators=1000, scale_pos_weight=3, subsample=0.9;, score=(train=-2265.116, test=-126572.775) total time=   1.2s\n",
      "[CV 2/4] END colsample_bytree=1.0, gamma=0.5, learning_rate=0.001, max_depth=7, min_child_weight=15, n_estimators=100, scale_pos_weight=2, subsample=0.5;, score=(train=-267542.326, test=-245603.669) total time=   0.1s\n",
      "[CV 1/4] END colsample_bytree=1.0, gamma=0.5, learning_rate=0.001, max_depth=7, min_child_weight=15, n_estimators=100, scale_pos_weight=2, subsample=0.5;, score=(train=-275903.134, test=-241390.884) total time=   0.1s\n",
      "[CV 3/4] END colsample_bytree=1.0, gamma=0.5, learning_rate=0.001, max_depth=7, min_child_weight=15, n_estimators=100, scale_pos_weight=2, subsample=0.5;, score=(train=-243710.090, test=-285626.539) total time=   0.1s\n",
      "[CV 1/4] END colsample_bytree=0.5, gamma=0, learning_rate=0.01, max_depth=3, min_child_weight=3, n_estimators=100, scale_pos_weight=8, subsample=0.9;, score=(train=-181109.352, test=-165094.178) total time=   0.0s\n",
      "[CV 4/4] END colsample_bytree=1.0, gamma=0.5, learning_rate=0.001, max_depth=7, min_child_weight=15, n_estimators=100, scale_pos_weight=2, subsample=0.5;, score=(train=-253838.087, test=-273146.518) total time=   0.1s\n",
      "[CV 2/4] END colsample_bytree=0.5, gamma=0, learning_rate=0.01, max_depth=3, min_child_weight=3, n_estimators=100, scale_pos_weight=8, subsample=0.9;, score=(train=-176954.090, test=-166776.223) total time=   0.0s\n",
      "[CV 4/4] END colsample_bytree=0.8, gamma=0.2, learning_rate=0.2, max_depth=30, min_child_weight=7, n_estimators=1000, scale_pos_weight=3, subsample=0.9;, score=(train=-3095.470, test=-138452.111) total time=   1.3s\n",
      "[CV 3/4] END colsample_bytree=0.5, gamma=0, learning_rate=0.01, max_depth=3, min_child_weight=3, n_estimators=100, scale_pos_weight=8, subsample=0.9;, score=(train=-163194.852, test=-193652.546) total time=   0.0s\n",
      "[CV 4/4] END colsample_bytree=0.5, gamma=0, learning_rate=0.01, max_depth=3, min_child_weight=3, n_estimators=100, scale_pos_weight=8, subsample=0.9;, score=(train=-165948.163, test=-202361.923) total time=   0.0s\n",
      "[CV 1/4] END colsample_bytree=0.5, gamma=0.2, learning_rate=0.001, max_depth=30, min_child_weight=5, n_estimators=100, scale_pos_weight=8, subsample=0.8;, score=(train=-278904.550, test=-244886.524) total time=   0.1s\n",
      "[CV 2/4] END colsample_bytree=0.5, gamma=0.2, learning_rate=0.001, max_depth=30, min_child_weight=5, n_estimators=100, scale_pos_weight=8, subsample=0.8;, score=(train=-270703.260, test=-249541.784) total time=   0.1s\n",
      "[CV 4/4] END colsample_bytree=0.5, gamma=0.2, learning_rate=0.001, max_depth=30, min_child_weight=5, n_estimators=100, scale_pos_weight=8, subsample=0.8;, score=(train=-256497.713, test=-277644.989) total time=   0.1s\n",
      "[CV 3/4] END colsample_bytree=0.5, gamma=0.2, learning_rate=0.001, max_depth=30, min_child_weight=5, n_estimators=100, scale_pos_weight=8, subsample=0.8;, score=(train=-246483.111, test=-291154.249) total time=   0.1s\n",
      "[CV 4/4] END colsample_bytree=0.8, gamma=0.5, learning_rate=0.1, max_depth=9, min_child_weight=3, n_estimators=2000, scale_pos_weight=8, subsample=0.9;, score=(train=-1976.061, test=-139617.246) total time=   1.6s\n",
      "[CV 1/4] END colsample_bytree=0.5, gamma=0.5, learning_rate=0.2, max_depth=7, min_child_weight=15, n_estimators=1000, scale_pos_weight=7, subsample=0.9;, score=(train=-18765.818, test=-125383.498) total time=   0.4s\n",
      "[CV 3/4] END colsample_bytree=0.5, gamma=0.5, learning_rate=0.2, max_depth=7, min_child_weight=15, n_estimators=1000, scale_pos_weight=7, subsample=0.9;, score=(train=-18863.262, test=-168838.858) total time=   0.4s\n",
      "[CV 4/4] END colsample_bytree=0.5, gamma=0.5, learning_rate=0.2, max_depth=7, min_child_weight=15, n_estimators=1000, scale_pos_weight=7, subsample=0.9;, score=(train=-22292.847, test=-144225.732) total time=   0.4s\n",
      "[CV 2/4] END colsample_bytree=0.5, gamma=0.5, learning_rate=0.2, max_depth=7, min_child_weight=15, n_estimators=1000, scale_pos_weight=7, subsample=0.9;, score=(train=-21315.995, test=-139279.589) total time=   0.4s\n",
      "[CV 1/4] END colsample_bytree=0.9, gamma=0, learning_rate=0.001, max_depth=30, min_child_weight=7, n_estimators=100, scale_pos_weight=1, subsample=0.5;, score=(train=-276670.129, test=-242727.019) total time=   0.1s\n",
      "[CV 2/4] END colsample_bytree=0.9, gamma=0, learning_rate=0.001, max_depth=30, min_child_weight=7, n_estimators=100, scale_pos_weight=1, subsample=0.5;, score=(train=-268439.884, test=-246427.443) total time=   0.1s\n",
      "[CV 3/4] END colsample_bytree=0.8, gamma=0.5, learning_rate=0.1, max_depth=9, min_child_weight=3, n_estimators=2000, scale_pos_weight=8, subsample=0.9;, score=(train=-2392.925, test=-138454.635) total time=   1.9s\n",
      "[CV 3/4] END colsample_bytree=0.9, gamma=0, learning_rate=0.001, max_depth=30, min_child_weight=7, n_estimators=100, scale_pos_weight=1, subsample=0.5;, score=(train=-244248.625, test=-287589.404) total time=   0.1s\n",
      "[CV 4/4] END colsample_bytree=0.9, gamma=0, learning_rate=0.001, max_depth=30, min_child_weight=7, n_estimators=100, scale_pos_weight=1, subsample=0.5;, score=(train=-254593.066, test=-274203.122) total time=   0.1s\n",
      "[CV 2/4] END colsample_bytree=0.8, gamma=0.5, learning_rate=0.1, max_depth=9, min_child_weight=3, n_estimators=2000, scale_pos_weight=8, subsample=0.9;, score=(train=-146.864, test=-112005.539) total time=   2.0s\n",
      "[CV 1/4] END colsample_bytree=1.0, gamma=0.2, learning_rate=0.1, max_depth=7, min_child_weight=15, n_estimators=100, scale_pos_weight=3, subsample=1.0;, score=(train=-75436.426, test=-111275.749) total time=   0.1s\n",
      "[CV 1/4] END colsample_bytree=0.8, gamma=0.5, learning_rate=0.1, max_depth=9, min_child_weight=3, n_estimators=2000, scale_pos_weight=8, subsample=0.9;, score=(train=-238.794, test=-115293.872) total time=   2.0s\n",
      "[CV 2/4] END colsample_bytree=1.0, gamma=0.2, learning_rate=0.1, max_depth=7, min_child_weight=15, n_estimators=100, scale_pos_weight=3, subsample=1.0;, score=(train=-74738.867, test=-120300.532) total time=   0.1s\n",
      "[CV 3/4] END colsample_bytree=1.0, gamma=0.2, learning_rate=0.1, max_depth=7, min_child_weight=15, n_estimators=100, scale_pos_weight=3, subsample=1.0;, score=(train=-70235.443, test=-131647.924) total time=   0.1s\n",
      "[CV 4/4] END colsample_bytree=1.0, gamma=0.2, learning_rate=0.1, max_depth=7, min_child_weight=15, n_estimators=100, scale_pos_weight=3, subsample=1.0;, score=(train=-70496.758, test=-128661.445) total time=   0.1s\n",
      "[CV 2/4] END colsample_bytree=1.0, gamma=0.1, learning_rate=0.001, max_depth=15, min_child_weight=10, n_estimators=1000, scale_pos_weight=6, subsample=1.0;, score=(train=-145229.160, test=-142065.447) total time=   0.9s\n",
      "[CV 1/4] END colsample_bytree=1.0, gamma=0.1, learning_rate=0.001, max_depth=15, min_child_weight=10, n_estimators=1000, scale_pos_weight=6, subsample=1.0;, score=(train=-151824.680, test=-152666.017) total time=   0.9s\n",
      "[CV 1/4] END colsample_bytree=0.9, gamma=0.3, learning_rate=0.1, max_depth=30, min_child_weight=7, n_estimators=50, scale_pos_weight=9, subsample=0.5;, score=(train=-81451.417, test=-112357.002) total time=   0.1s\n",
      "[CV 4/4] END colsample_bytree=1.0, gamma=0.1, learning_rate=0.001, max_depth=15, min_child_weight=10, n_estimators=1000, scale_pos_weight=6, subsample=1.0;, score=(train=-136218.465, test=-181035.578) total time=   0.9s\n",
      "[CV 2/4] END colsample_bytree=0.9, gamma=0.3, learning_rate=0.1, max_depth=30, min_child_weight=7, n_estimators=50, scale_pos_weight=9, subsample=0.5;, score=(train=-78886.337, test=-117279.699) total time=   0.1s\n",
      "[CV 3/4] END colsample_bytree=1.0, gamma=0.1, learning_rate=0.001, max_depth=15, min_child_weight=10, n_estimators=1000, scale_pos_weight=6, subsample=1.0;, score=(train=-135770.064, test=-158485.132) total time=   1.0s\n",
      "[CV 4/4] END colsample_bytree=0.9, gamma=0.3, learning_rate=0.1, max_depth=30, min_child_weight=7, n_estimators=50, scale_pos_weight=9, subsample=0.5;, score=(train=-77982.866, test=-142162.284) total time=   0.1s\n",
      "[CV 3/4] END colsample_bytree=0.9, gamma=0.3, learning_rate=0.1, max_depth=30, min_child_weight=7, n_estimators=50, scale_pos_weight=9, subsample=0.5;, score=(train=-78556.529, test=-127550.972) total time=   0.1s\n",
      "[CV 1/4] END colsample_bytree=0.9, gamma=0.3, learning_rate=0.2, max_depth=30, min_child_weight=5, n_estimators=1000, scale_pos_weight=2, subsample=0.8;, score=(train=-330.751, test=-124847.092) total time=   1.6s\n",
      "[CV 3/4] END colsample_bytree=0.9, gamma=0.3, learning_rate=0.2, max_depth=30, min_child_weight=5, n_estimators=1000, scale_pos_weight=2, subsample=0.8;, score=(train=-2681.476, test=-152538.453) total time=   1.6s\n",
      "[CV 2/4] END colsample_bytree=0.9, gamma=0.3, learning_rate=0.2, max_depth=30, min_child_weight=5, n_estimators=1000, scale_pos_weight=2, subsample=0.8;, score=(train=-846.053, test=-124642.198) total time=   1.6s\n",
      "[CV 4/4] END colsample_bytree=0.9, gamma=0.3, learning_rate=0.2, max_depth=30, min_child_weight=5, n_estimators=1000, scale_pos_weight=2, subsample=0.8;, score=(train=-2212.228, test=-135223.170) total time=   1.6s\n",
      "[CV 2/4] END colsample_bytree=0.8, gamma=0, learning_rate=0.2, max_depth=9, min_child_weight=1, n_estimators=2000, scale_pos_weight=7, subsample=1.0;, score=(train=-134.402, test=-120859.407) total time=   1.8s\n",
      "[CV 4/4] END colsample_bytree=0.8, gamma=0, learning_rate=0.2, max_depth=9, min_child_weight=1, n_estimators=2000, scale_pos_weight=7, subsample=1.0;, score=(train=-1770.754, test=-154548.988) total time=   2.1s\n",
      "[CV 1/4] END colsample_bytree=0.8, gamma=0, learning_rate=0.2, max_depth=9, min_child_weight=1, n_estimators=2000, scale_pos_weight=7, subsample=1.0;, score=(train=-217.256, test=-137216.486) total time=   2.1s\n",
      "[CV 3/4] END colsample_bytree=0.8, gamma=0, learning_rate=0.2, max_depth=9, min_child_weight=1, n_estimators=2000, scale_pos_weight=7, subsample=1.0;, score=(train=-2173.989, test=-143422.658) total time=   2.2s\n"
     ]
    },
    {
     "data": {
      "text/html": [
       "<style>#sk-container-id-4 {color: black;}#sk-container-id-4 pre{padding: 0;}#sk-container-id-4 div.sk-toggleable {background-color: white;}#sk-container-id-4 label.sk-toggleable__label {cursor: pointer;display: block;width: 100%;margin-bottom: 0;padding: 0.3em;box-sizing: border-box;text-align: center;}#sk-container-id-4 label.sk-toggleable__label-arrow:before {content: \"▸\";float: left;margin-right: 0.25em;color: #696969;}#sk-container-id-4 label.sk-toggleable__label-arrow:hover:before {color: black;}#sk-container-id-4 div.sk-estimator:hover label.sk-toggleable__label-arrow:before {color: black;}#sk-container-id-4 div.sk-toggleable__content {max-height: 0;max-width: 0;overflow: hidden;text-align: left;background-color: #f0f8ff;}#sk-container-id-4 div.sk-toggleable__content pre {margin: 0.2em;color: black;border-radius: 0.25em;background-color: #f0f8ff;}#sk-container-id-4 input.sk-toggleable__control:checked~div.sk-toggleable__content {max-height: 200px;max-width: 100%;overflow: auto;}#sk-container-id-4 input.sk-toggleable__control:checked~label.sk-toggleable__label-arrow:before {content: \"▾\";}#sk-container-id-4 div.sk-estimator input.sk-toggleable__control:checked~label.sk-toggleable__label {background-color: #d4ebff;}#sk-container-id-4 div.sk-label input.sk-toggleable__control:checked~label.sk-toggleable__label {background-color: #d4ebff;}#sk-container-id-4 input.sk-hidden--visually {border: 0;clip: rect(1px 1px 1px 1px);clip: rect(1px, 1px, 1px, 1px);height: 1px;margin: -1px;overflow: hidden;padding: 0;position: absolute;width: 1px;}#sk-container-id-4 div.sk-estimator {font-family: monospace;background-color: #f0f8ff;border: 1px dotted black;border-radius: 0.25em;box-sizing: border-box;margin-bottom: 0.5em;}#sk-container-id-4 div.sk-estimator:hover {background-color: #d4ebff;}#sk-container-id-4 div.sk-parallel-item::after {content: \"\";width: 100%;border-bottom: 1px solid gray;flex-grow: 1;}#sk-container-id-4 div.sk-label:hover label.sk-toggleable__label {background-color: #d4ebff;}#sk-container-id-4 div.sk-serial::before {content: \"\";position: absolute;border-left: 1px solid gray;box-sizing: border-box;top: 0;bottom: 0;left: 50%;z-index: 0;}#sk-container-id-4 div.sk-serial {display: flex;flex-direction: column;align-items: center;background-color: white;padding-right: 0.2em;padding-left: 0.2em;position: relative;}#sk-container-id-4 div.sk-item {position: relative;z-index: 1;}#sk-container-id-4 div.sk-parallel {display: flex;align-items: stretch;justify-content: center;background-color: white;position: relative;}#sk-container-id-4 div.sk-item::before, #sk-container-id-4 div.sk-parallel-item::before {content: \"\";position: absolute;border-left: 1px solid gray;box-sizing: border-box;top: 0;bottom: 0;left: 50%;z-index: -1;}#sk-container-id-4 div.sk-parallel-item {display: flex;flex-direction: column;z-index: 1;position: relative;background-color: white;}#sk-container-id-4 div.sk-parallel-item:first-child::after {align-self: flex-end;width: 50%;}#sk-container-id-4 div.sk-parallel-item:last-child::after {align-self: flex-start;width: 50%;}#sk-container-id-4 div.sk-parallel-item:only-child::after {width: 0;}#sk-container-id-4 div.sk-dashed-wrapped {border: 1px dashed gray;margin: 0 0.4em 0.5em 0.4em;box-sizing: border-box;padding-bottom: 0.4em;background-color: white;}#sk-container-id-4 div.sk-label label {font-family: monospace;font-weight: bold;display: inline-block;line-height: 1.2em;}#sk-container-id-4 div.sk-label-container {text-align: center;}#sk-container-id-4 div.sk-container {/* jupyter's `normalize.less` sets `[hidden] { display: none; }` but bootstrap.min.css set `[hidden] { display: none !important; }` so we also need the `!important` here to be able to override the default hidden behavior on the sphinx rendered scikit-learn.org. See: https://github.com/scikit-learn/scikit-learn/issues/21755 */display: inline-block !important;position: relative;}#sk-container-id-4 div.sk-text-repr-fallback {display: none;}</style><div id=\"sk-container-id-4\" class=\"sk-top-container\"><div class=\"sk-text-repr-fallback\"><pre>RandomizedSearchCV(cv=4,\n",
       "                   estimator=XGBRegressor(base_score=None, booster=None,\n",
       "                                          callbacks=None,\n",
       "                                          colsample_bylevel=None,\n",
       "                                          colsample_bynode=None,\n",
       "                                          colsample_bytree=None, device=None,\n",
       "                                          early_stopping_rounds=None,\n",
       "                                          enable_categorical=True,\n",
       "                                          eval_metric=None, feature_types=None,\n",
       "                                          gamma=None, grow_policy=None,\n",
       "                                          importance_type=None,\n",
       "                                          interaction_constraints=None,\n",
       "                                          learning_rate=N...\n",
       "                   param_distributions={&#x27;colsample_bytree&#x27;: [0.5, 0.8, 0.9,\n",
       "                                                             1.0],\n",
       "                                        &#x27;gamma&#x27;: [0, 0.1, 0.2, 0.3, 0.5],\n",
       "                                        &#x27;learning_rate&#x27;: [0.001, 0.01, 0.1, 0.2,\n",
       "                                                          0.3],\n",
       "                                        &#x27;max_depth&#x27;: [3, 5, 7, 9, 15, 25, 30],\n",
       "                                        &#x27;min_child_weight&#x27;: [1, 3, 5, 7, 10, 15,\n",
       "                                                             20],\n",
       "                                        &#x27;n_estimators&#x27;: [50, 100, 200, 300, 500,\n",
       "                                                         1000, 2000],\n",
       "                                        &#x27;scale_pos_weight&#x27;: [1, 2, 3, 4, 5, 6,\n",
       "                                                             7, 8, 9],\n",
       "                                        &#x27;subsample&#x27;: [0.5, 0.8, 0.9, 1.0]},\n",
       "                   random_state=42, return_train_score=True,\n",
       "                   scoring=&#x27;neg_mean_absolute_error&#x27;, verbose=3)</pre><b>In a Jupyter environment, please rerun this cell to show the HTML representation or trust the notebook. <br />On GitHub, the HTML representation is unable to render, please try loading this page with nbviewer.org.</b></div><div class=\"sk-container\" hidden><div class=\"sk-item sk-dashed-wrapped\"><div class=\"sk-label-container\"><div class=\"sk-label sk-toggleable\"><input class=\"sk-toggleable__control sk-hidden--visually\" id=\"sk-estimator-id-10\" type=\"checkbox\" ><label for=\"sk-estimator-id-10\" class=\"sk-toggleable__label sk-toggleable__label-arrow\">RandomizedSearchCV</label><div class=\"sk-toggleable__content\"><pre>RandomizedSearchCV(cv=4,\n",
       "                   estimator=XGBRegressor(base_score=None, booster=None,\n",
       "                                          callbacks=None,\n",
       "                                          colsample_bylevel=None,\n",
       "                                          colsample_bynode=None,\n",
       "                                          colsample_bytree=None, device=None,\n",
       "                                          early_stopping_rounds=None,\n",
       "                                          enable_categorical=True,\n",
       "                                          eval_metric=None, feature_types=None,\n",
       "                                          gamma=None, grow_policy=None,\n",
       "                                          importance_type=None,\n",
       "                                          interaction_constraints=None,\n",
       "                                          learning_rate=N...\n",
       "                   param_distributions={&#x27;colsample_bytree&#x27;: [0.5, 0.8, 0.9,\n",
       "                                                             1.0],\n",
       "                                        &#x27;gamma&#x27;: [0, 0.1, 0.2, 0.3, 0.5],\n",
       "                                        &#x27;learning_rate&#x27;: [0.001, 0.01, 0.1, 0.2,\n",
       "                                                          0.3],\n",
       "                                        &#x27;max_depth&#x27;: [3, 5, 7, 9, 15, 25, 30],\n",
       "                                        &#x27;min_child_weight&#x27;: [1, 3, 5, 7, 10, 15,\n",
       "                                                             20],\n",
       "                                        &#x27;n_estimators&#x27;: [50, 100, 200, 300, 500,\n",
       "                                                         1000, 2000],\n",
       "                                        &#x27;scale_pos_weight&#x27;: [1, 2, 3, 4, 5, 6,\n",
       "                                                             7, 8, 9],\n",
       "                                        &#x27;subsample&#x27;: [0.5, 0.8, 0.9, 1.0]},\n",
       "                   random_state=42, return_train_score=True,\n",
       "                   scoring=&#x27;neg_mean_absolute_error&#x27;, verbose=3)</pre></div></div></div><div class=\"sk-parallel\"><div class=\"sk-parallel-item\"><div class=\"sk-item\"><div class=\"sk-label-container\"><div class=\"sk-label sk-toggleable\"><input class=\"sk-toggleable__control sk-hidden--visually\" id=\"sk-estimator-id-11\" type=\"checkbox\" ><label for=\"sk-estimator-id-11\" class=\"sk-toggleable__label sk-toggleable__label-arrow\">estimator: XGBRegressor</label><div class=\"sk-toggleable__content\"><pre>XGBRegressor(base_score=None, booster=None, callbacks=None,\n",
       "             colsample_bylevel=None, colsample_bynode=None,\n",
       "             colsample_bytree=None, device=None, early_stopping_rounds=None,\n",
       "             enable_categorical=True, eval_metric=None, feature_types=None,\n",
       "             gamma=None, grow_policy=None, importance_type=None,\n",
       "             interaction_constraints=None, learning_rate=None, max_bin=None,\n",
       "             max_cat_threshold=None, max_cat_to_onehot=None,\n",
       "             max_delta_step=None, max_depth=None, max_leaves=None,\n",
       "             min_child_weight=None, missing=nan, monotone_constraints=None,\n",
       "             multi_strategy=None, n_estimators=None, n_jobs=None,\n",
       "             num_parallel_tree=None, random_state=None, ...)</pre></div></div></div><div class=\"sk-serial\"><div class=\"sk-item\"><div class=\"sk-estimator sk-toggleable\"><input class=\"sk-toggleable__control sk-hidden--visually\" id=\"sk-estimator-id-12\" type=\"checkbox\" ><label for=\"sk-estimator-id-12\" class=\"sk-toggleable__label sk-toggleable__label-arrow\">XGBRegressor</label><div class=\"sk-toggleable__content\"><pre>XGBRegressor(base_score=None, booster=None, callbacks=None,\n",
       "             colsample_bylevel=None, colsample_bynode=None,\n",
       "             colsample_bytree=None, device=None, early_stopping_rounds=None,\n",
       "             enable_categorical=True, eval_metric=None, feature_types=None,\n",
       "             gamma=None, grow_policy=None, importance_type=None,\n",
       "             interaction_constraints=None, learning_rate=None, max_bin=None,\n",
       "             max_cat_threshold=None, max_cat_to_onehot=None,\n",
       "             max_delta_step=None, max_depth=None, max_leaves=None,\n",
       "             min_child_weight=None, missing=nan, monotone_constraints=None,\n",
       "             multi_strategy=None, n_estimators=None, n_jobs=None,\n",
       "             num_parallel_tree=None, random_state=None, ...)</pre></div></div></div></div></div></div></div></div></div></div>"
      ],
      "text/plain": [
       "RandomizedSearchCV(cv=4,\n",
       "                   estimator=XGBRegressor(base_score=None, booster=None,\n",
       "                                          callbacks=None,\n",
       "                                          colsample_bylevel=None,\n",
       "                                          colsample_bynode=None,\n",
       "                                          colsample_bytree=None, device=None,\n",
       "                                          early_stopping_rounds=None,\n",
       "                                          enable_categorical=True,\n",
       "                                          eval_metric=None, feature_types=None,\n",
       "                                          gamma=None, grow_policy=None,\n",
       "                                          importance_type=None,\n",
       "                                          interaction_constraints=None,\n",
       "                                          learning_rate=N...\n",
       "                   param_distributions={'colsample_bytree': [0.5, 0.8, 0.9,\n",
       "                                                             1.0],\n",
       "                                        'gamma': [0, 0.1, 0.2, 0.3, 0.5],\n",
       "                                        'learning_rate': [0.001, 0.01, 0.1, 0.2,\n",
       "                                                          0.3],\n",
       "                                        'max_depth': [3, 5, 7, 9, 15, 25, 30],\n",
       "                                        'min_child_weight': [1, 3, 5, 7, 10, 15,\n",
       "                                                             20],\n",
       "                                        'n_estimators': [50, 100, 200, 300, 500,\n",
       "                                                         1000, 2000],\n",
       "                                        'scale_pos_weight': [1, 2, 3, 4, 5, 6,\n",
       "                                                             7, 8, 9],\n",
       "                                        'subsample': [0.5, 0.8, 0.9, 1.0]},\n",
       "                   random_state=42, return_train_score=True,\n",
       "                   scoring='neg_mean_absolute_error', verbose=3)"
      ]
     },
     "execution_count": 53,
     "metadata": {},
     "output_type": "execute_result"
    }
   ],
   "source": [
    "random_cv.fit(X_train,y_train)"
   ]
  },
  {
   "cell_type": "code",
   "execution_count": 54,
   "metadata": {},
   "outputs": [
    {
     "name": "stdout",
     "output_type": "stream",
     "text": [
      "{'subsample': 0.5, 'scale_pos_weight': 2, 'n_estimators': 300, 'min_child_weight': 3, 'max_depth': 30, 'learning_rate': 0.01, 'gamma': 0.2, 'colsample_bytree': 1.0}\n",
      "-121394.64392905406\n"
     ]
    },
    {
     "data": {
      "text/plain": [
       "array([0.04730931, 0.44505876, 0.06017365, 0.13857387, 0.08460698,\n",
       "       0.04866053, 0.0846822 , 0.09093471], dtype=float32)"
      ]
     },
     "execution_count": 54,
     "metadata": {},
     "output_type": "execute_result"
    }
   ],
   "source": [
    "model = random_cv.best_estimator_\n",
    "print(random_cv.best_params_)\n",
    "print(random_cv.best_score_) \n",
    "\n",
    "model.feature_importances_"
   ]
  },
  {
   "cell_type": "code",
   "execution_count": 56,
   "metadata": {},
   "outputs": [
    {
     "name": "stdout",
     "output_type": "stream",
     "text": [
      "MAE: 125237.86097446237\n",
      "RMSE: 297953.9700542328\n",
      "R2: 0.6631899238822998\n"
     ]
    }
   ],
   "source": [
    "from sklearn.metrics import mean_absolute_error, mean_squared_error, r2_score\n",
    "preds = model.predict(X_test)\n",
    "\n",
    "# Evaluate the model\n",
    "mae_score = mean_absolute_error(y_test, preds)\n",
    "print('MAE:', mae_score)\n",
    "\n",
    "rmse_score = np.sqrt(mean_squared_error(y_test, preds))\n",
    "print('RMSE:', rmse_score)\n",
    "\n",
    "r2 = r2_score(y_test, preds)\n",
    "print('R2:', r2)"
   ]
  }
 ],
 "metadata": {
  "kernelspec": {
   "display_name": "pricepy",
   "language": "python",
   "name": "python3"
  },
  "language_info": {
   "codemirror_mode": {
    "name": "ipython",
    "version": 3
   },
   "file_extension": ".py",
   "mimetype": "text/x-python",
   "name": "python",
   "nbconvert_exporter": "python",
   "pygments_lexer": "ipython3",
   "version": "3.10.13"
  }
 },
 "nbformat": 4,
 "nbformat_minor": 2
}
