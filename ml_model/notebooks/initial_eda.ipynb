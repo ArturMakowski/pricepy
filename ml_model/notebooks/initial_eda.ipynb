{
 "cells": [
  {
   "cell_type": "code",
   "execution_count": 1,
   "metadata": {},
   "outputs": [],
   "source": [
    "import sys\n",
    "sys.path.append('../../_common/database_communicator/')"
   ]
  },
  {
   "cell_type": "code",
   "execution_count": 2,
   "metadata": {},
   "outputs": [],
   "source": [
    "from db_connector import DBConnector\n",
    "import pandas as pd"
   ]
  },
  {
   "cell_type": "code",
   "execution_count": 3,
   "metadata": {},
   "outputs": [],
   "source": [
    "connector = DBConnector()\n",
    "engine = connector.create_sql_engine()"
   ]
  },
  {
   "cell_type": "code",
   "execution_count": 4,
   "metadata": {},
   "outputs": [],
   "source": [
    "df = pd.read_sql_query(\"SELECT * FROM data_staging\", con=engine)"
   ]
  },
  {
   "cell_type": "code",
   "execution_count": 13,
   "metadata": {},
   "outputs": [],
   "source": [
    "df['price'] = df['price'].str.replace('zł', '').str \\\n",
    "    .replace(' ', '') \\\n",
    "    .replace(',', '.', regex=True) \\\n",
    "    .replace('Zapytajocenę', None, regex=True) \\\n",
    "    .astype(float)"
   ]
  },
  {
   "cell_type": "code",
   "execution_count": 17,
   "metadata": {},
   "outputs": [],
   "source": [
    "df['size']= df['size'].str.replace(',', '.').astype(float)"
   ]
  },
  {
   "cell_type": "code",
   "execution_count": 28,
   "metadata": {},
   "outputs": [
    {
     "data": {
      "text/html": [
       "<div>\n",
       "<style scoped>\n",
       "    .dataframe tbody tr th:only-of-type {\n",
       "        vertical-align: middle;\n",
       "    }\n",
       "\n",
       "    .dataframe tbody tr th {\n",
       "        vertical-align: top;\n",
       "    }\n",
       "\n",
       "    .dataframe thead th {\n",
       "        text-align: right;\n",
       "    }\n",
       "</style>\n",
       "<table border=\"1\" class=\"dataframe\">\n",
       "  <thead>\n",
       "    <tr style=\"text-align: right;\">\n",
       "      <th></th>\n",
       "      <th>url</th>\n",
       "      <th>price</th>\n",
       "      <th>status</th>\n",
       "      <th>size</th>\n",
       "      <th>property_type</th>\n",
       "      <th>rooms</th>\n",
       "      <th>floor</th>\n",
       "      <th>year_built</th>\n",
       "      <th>property_condition</th>\n",
       "      <th>location</th>\n",
       "      <th>desc</th>\n",
       "      <th>image_url</th>\n",
       "    </tr>\n",
       "  </thead>\n",
       "  <tbody>\n",
       "    <tr>\n",
       "      <th>0</th>\n",
       "      <td>https://www.otodom.pl/pl/oferta/nowoczesne-dwu...</td>\n",
       "      <td>630000.0</td>\n",
       "      <td>wtórny</td>\n",
       "      <td>68.00</td>\n",
       "      <td>brak informacji</td>\n",
       "      <td>2</td>\n",
       "      <td>1/6</td>\n",
       "      <td>brak informacji</td>\n",
       "      <td>do zamieszkania</td>\n",
       "      <td>ul. Chartowo, Chartowo, Nowe Miasto, Poznań, w...</td>\n",
       "      <td>Z przyjemnością przedstawiam ofertę sprzedaży ...</td>\n",
       "      <td>https://ireland.apollo.olxcdn.com/v1/files/eyJ...</td>\n",
       "    </tr>\n",
       "    <tr>\n",
       "      <th>1</th>\n",
       "      <td>https://www.otodom.pl/pl/oferta/nowe-3-pokoje-...</td>\n",
       "      <td>552520.0</td>\n",
       "      <td>pierwotny</td>\n",
       "      <td>51.00</td>\n",
       "      <td>blok</td>\n",
       "      <td>3</td>\n",
       "      <td>1</td>\n",
       "      <td>2023</td>\n",
       "      <td>do wykończenia</td>\n",
       "      <td>Starołęka Mała, Nowe Miasto, Poznań, wielkopol...</td>\n",
       "      <td>Możliwość kontaktu telefonicznego w godzinach ...</td>\n",
       "      <td>https://ireland.apollo.olxcdn.com/v1/files/eyJ...</td>\n",
       "    </tr>\n",
       "    <tr>\n",
       "      <th>2</th>\n",
       "      <td>https://www.olx.pl/d/oferta/mieszkanie-3-pokoj...</td>\n",
       "      <td>649000.0</td>\n",
       "      <td>wtórny</td>\n",
       "      <td>59.00</td>\n",
       "      <td>blok</td>\n",
       "      <td>3</td>\n",
       "      <td>1</td>\n",
       "      <td>None</td>\n",
       "      <td>None</td>\n",
       "      <td>Poznań, Naramowice\\nWielkopolskie</td>\n",
       "      <td>Zamieszkaj w dzielnicy Poznania blisko natury!...</td>\n",
       "      <td>https://ireland.apollo.olxcdn.com:443/v1/files...</td>\n",
       "    </tr>\n",
       "    <tr>\n",
       "      <th>3</th>\n",
       "      <td>https://www.otodom.pl/pl/oferta/wynajety-apart...</td>\n",
       "      <td>679000.0</td>\n",
       "      <td>pierwotny</td>\n",
       "      <td>41.92</td>\n",
       "      <td>apartamentowiec</td>\n",
       "      <td>2</td>\n",
       "      <td>5/5</td>\n",
       "      <td>2023</td>\n",
       "      <td>zapytaj</td>\n",
       "      <td>Łacina, Nowe Miasto, Poznań, wielkopolskie</td>\n",
       "      <td>Oferta bezpośrednio od właściciela – BRAK prow...</td>\n",
       "      <td>https://ireland.apollo.olxcdn.com/v1/files/eyJ...</td>\n",
       "    </tr>\n",
       "    <tr>\n",
       "      <th>4</th>\n",
       "      <td>https://www.otodom.pl/pl/oferta/atrakcyjne-mie...</td>\n",
       "      <td>679000.0</td>\n",
       "      <td>wtórny</td>\n",
       "      <td>43.65</td>\n",
       "      <td>kamienica</td>\n",
       "      <td>2</td>\n",
       "      <td>3/4</td>\n",
       "      <td>1900</td>\n",
       "      <td>do zamieszkania</td>\n",
       "      <td>ul. Tylne Chwaliszewo, Chwaliszewo, Stare Mias...</td>\n",
       "      <td>* Stylowo urządzone * CHWALISZEWO *\\n\\nPrzedst...</td>\n",
       "      <td>https://ireland.apollo.olxcdn.com/v1/files/eyJ...</td>\n",
       "    </tr>\n",
       "  </tbody>\n",
       "</table>\n",
       "</div>"
      ],
      "text/plain": [
       "                                                 url     price     status  \\\n",
       "0  https://www.otodom.pl/pl/oferta/nowoczesne-dwu...  630000.0     wtórny   \n",
       "1  https://www.otodom.pl/pl/oferta/nowe-3-pokoje-...  552520.0  pierwotny   \n",
       "2  https://www.olx.pl/d/oferta/mieszkanie-3-pokoj...  649000.0     wtórny   \n",
       "3  https://www.otodom.pl/pl/oferta/wynajety-apart...  679000.0  pierwotny   \n",
       "4  https://www.otodom.pl/pl/oferta/atrakcyjne-mie...  679000.0     wtórny   \n",
       "\n",
       "    size    property_type rooms floor       year_built property_condition  \\\n",
       "0  68.00  brak informacji     2   1/6  brak informacji    do zamieszkania   \n",
       "1  51.00             blok     3     1             2023     do wykończenia   \n",
       "2  59.00             blok     3     1             None               None   \n",
       "3  41.92  apartamentowiec     2   5/5             2023            zapytaj   \n",
       "4  43.65        kamienica     2   3/4             1900    do zamieszkania   \n",
       "\n",
       "                                            location  \\\n",
       "0  ul. Chartowo, Chartowo, Nowe Miasto, Poznań, w...   \n",
       "1  Starołęka Mała, Nowe Miasto, Poznań, wielkopol...   \n",
       "2                  Poznań, Naramowice\\nWielkopolskie   \n",
       "3         Łacina, Nowe Miasto, Poznań, wielkopolskie   \n",
       "4  ul. Tylne Chwaliszewo, Chwaliszewo, Stare Mias...   \n",
       "\n",
       "                                                desc  \\\n",
       "0  Z przyjemnością przedstawiam ofertę sprzedaży ...   \n",
       "1  Możliwość kontaktu telefonicznego w godzinach ...   \n",
       "2  Zamieszkaj w dzielnicy Poznania blisko natury!...   \n",
       "3  Oferta bezpośrednio od właściciela – BRAK prow...   \n",
       "4  * Stylowo urządzone * CHWALISZEWO *\\n\\nPrzedst...   \n",
       "\n",
       "                                           image_url  \n",
       "0  https://ireland.apollo.olxcdn.com/v1/files/eyJ...  \n",
       "1  https://ireland.apollo.olxcdn.com/v1/files/eyJ...  \n",
       "2  https://ireland.apollo.olxcdn.com:443/v1/files...  \n",
       "3  https://ireland.apollo.olxcdn.com/v1/files/eyJ...  \n",
       "4  https://ireland.apollo.olxcdn.com/v1/files/eyJ...  "
      ]
     },
     "execution_count": 28,
     "metadata": {},
     "output_type": "execute_result"
    }
   ],
   "source": [
    "df.head()"
   ]
  },
  {
   "cell_type": "code",
   "execution_count": 32,
   "metadata": {},
   "outputs": [
    {
     "data": {
      "image/png": "[encoded data removed]",
      "text/plain": [
       "<Figure size 1000x500 with 1 Axes>"
      ]
     },
     "metadata": {},
     "output_type": "display_data"
    }
   ],
   "source": [
    "import matplotlib.pyplot as plt\n",
    "import seaborn as sns\n",
    "\n",
    "sns.set_style(\"whitegrid\")\n",
    "plt.figure(figsize=(10, 5))\n",
    "sns.scatterplot(x='size', y='price', data=df, hue='location', legend=False)\n",
    "plt.title('Price vs. size')\n",
    "plt.show()"
   ]
  },
  {
   "cell_type": "code",
   "execution_count": 33,
   "metadata": {},
   "outputs": [
    {
     "data": {
      "text/html": [
       "<div>\n",
       "<style scoped>\n",
       "    .dataframe tbody tr th:only-of-type {\n",
       "        vertical-align: middle;\n",
       "    }\n",
       "\n",
       "    .dataframe tbody tr th {\n",
       "        vertical-align: top;\n",
       "    }\n",
       "\n",
       "    .dataframe thead th {\n",
       "        text-align: right;\n",
       "    }\n",
       "</style>\n",
       "<table border=\"1\" class=\"dataframe\">\n",
       "  <thead>\n",
       "    <tr style=\"text-align: right;\">\n",
       "      <th></th>\n",
       "      <th>url</th>\n",
       "      <th>price</th>\n",
       "      <th>status</th>\n",
       "      <th>size</th>\n",
       "      <th>property_type</th>\n",
       "      <th>rooms</th>\n",
       "      <th>floor</th>\n",
       "      <th>year_built</th>\n",
       "      <th>property_condition</th>\n",
       "      <th>location</th>\n",
       "      <th>desc</th>\n",
       "      <th>image_url</th>\n",
       "    </tr>\n",
       "  </thead>\n",
       "  <tbody>\n",
       "    <tr>\n",
       "      <th>219</th>\n",
       "      <td>https://www.otodom.pl/pl/oferta/cala-kamienica...</td>\n",
       "      <td>5790000.0</td>\n",
       "      <td>wtórny</td>\n",
       "      <td>1094.0</td>\n",
       "      <td>kamienica</td>\n",
       "      <td>None</td>\n",
       "      <td>parter/5</td>\n",
       "      <td>1939</td>\n",
       "      <td>do zamieszkania</td>\n",
       "      <td>ul. Kanałowa, Łazarz, Grunwald, Poznań, wielko...</td>\n",
       "      <td>Oferujemy do sprzedaży atrakcyjną kamienicę po...</td>\n",
       "      <td>https://ireland.apollo.olxcdn.com/v1/files/eyJ...</td>\n",
       "    </tr>\n",
       "  </tbody>\n",
       "</table>\n",
       "</div>"
      ],
      "text/plain": [
       "                                                   url      price  status  \\\n",
       "219  https://www.otodom.pl/pl/oferta/cala-kamienica...  5790000.0  wtórny   \n",
       "\n",
       "       size property_type rooms     floor year_built property_condition  \\\n",
       "219  1094.0     kamienica  None  parter/5       1939    do zamieszkania   \n",
       "\n",
       "                                              location  \\\n",
       "219  ul. Kanałowa, Łazarz, Grunwald, Poznań, wielko...   \n",
       "\n",
       "                                                  desc  \\\n",
       "219  Oferujemy do sprzedaży atrakcyjną kamienicę po...   \n",
       "\n",
       "                                             image_url  \n",
       "219  https://ireland.apollo.olxcdn.com/v1/files/eyJ...  "
      ]
     },
     "execution_count": 33,
     "metadata": {},
     "output_type": "execute_result"
    }
   ],
   "source": [
    "df[df['size'] > 1000]"
   ]
  },
  {
   "cell_type": "code",
   "execution_count": 35,
   "metadata": {},
   "outputs": [],
   "source": [
    "df = df[df['price'].notna()]"
   ]
  },
  {
   "cell_type": "code",
   "execution_count": 84,
   "metadata": {},
   "outputs": [
    {
     "name": "stdout",
     "output_type": "stream",
     "text": [
      "521\n",
      "1\n"
     ]
    },
    {
     "name": "stderr",
     "output_type": "stream",
     "text": [
      "/tmp/ipykernel_18619/2024772708.py:7: SettingWithCopyWarning: \n",
      "A value is trying to be set on a copy of a slice from a DataFrame.\n",
      "Try using .loc[row_indexer,col_indexer] = value instead\n",
      "\n",
      "See the caveats in the documentation: https://pandas.pydata.org/pandas-docs/stable/user_guide/indexing.html#returning-a-view-versus-a-copy\n",
      "  df['outlier'] = clf.predict(df[['size', 'price']])\n"
     ]
    }
   ],
   "source": [
    "from sklearn.ensemble import IsolationForest\n",
    "import numpy as np\n",
    "\n",
    "clf = IsolationForest(max_samples=5, contamination=0.005, random_state=42).fit(df[['size', 'price']])\n",
    "\n",
    "clf.predict(df[['size', 'price']])\n",
    "df['outlier'] = clf.predict(df[['size', 'price']])\n",
    "\n",
    "print(len(df))\n",
    "print(len(df[df['outlier'] == -1]))"
   ]
  },
  {
   "cell_type": "code",
   "execution_count": 91,
   "metadata": {},
   "outputs": [
    {
     "data": {
      "image/png": "[encoded data removed]",
      "text/plain": [
       "<Figure size 1000x500 with 1 Axes>"
      ]
     },
     "metadata": {},
     "output_type": "display_data"
    }
   ],
   "source": [
    "sns.set_style(\"whitegrid\")\n",
    "plt.figure(figsize=(10, 5))\n",
    "sns.scatterplot(x='size', y='price', data=df, hue='outlier', legend=False, palette='Set1')\n",
    "plt.annotate('outlier', xy=(1094.0, 5790000.0), xytext=(900, 4000000), arrowprops=dict(facecolor='black', shrink=0.05))\n",
    "plt.show()"
   ]
  }
 ],
 "metadata": {
  "kernelspec": {
   "display_name": "pricepy",
   "language": "python",
   "name": "python3"
  },
  "language_info": {
   "codemirror_mode": {
    "name": "ipython",
    "version": 3
   },
   "file_extension": ".py",
   "mimetype": "text/x-python",
   "name": "python",
   "nbconvert_exporter": "python",
   "pygments_lexer": "ipython3",
   "version": "3.10.13"
  }
 },
 "nbformat": 4,
 "nbformat_minor": 2
}
